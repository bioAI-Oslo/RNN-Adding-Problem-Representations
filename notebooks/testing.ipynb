{
 "cells": [
  {
   "cell_type": "code",
   "execution_count": 2,
   "metadata": {},
   "outputs": [],
   "source": [
    "import numpy as np\n",
    "import matplotlib.pyplot as plt\n",
    "import matplotlib.cm as cm\n",
    "from tqdm import tqdm\n",
    "from IPython.display import HTML\n",
    "\n",
    "import torch\n",
    "import torch.nn as nn\n",
    "import torch.nn.functional as F\n",
    "from torch.autograd import Variable, functional\n",
    "import torch.optim as optim\n",
    "from torch.utils.data import Dataset, dataloader\n",
    "from torchsummary import summary\n",
    "\n",
    "import sys\n",
    "sys.path.append('../src')\n",
    "from model import *\n",
    "from datagen import *"
   ]
  },
  {
   "cell_type": "code",
   "execution_count": 3,
   "metadata": {},
   "outputs": [
    {
     "name": "stderr",
     "output_type": "stream",
     "text": [
      "C:\\Users\\matti\\AppData\\Local\\Temp\\ipykernel_4012\\1993663843.py:4: UserWarning: Tensor.T is deprecated on 0-D tensors. This function is the identity in these cases. (Triggered internally at C:\\cb\\pytorch_1000000000000\\work\\aten\\src\\ATen\\native\\TensorShape.cpp:3586.)\n",
      "  torch.remainder(torch.acos(hts[0]/torch.linalg.norm(hts[:],dim=-1)),2*np.pi).T\n"
     ]
    },
    {
     "data": {
      "text/plain": [
       "tensor(1.5708)"
      ]
     },
     "execution_count": 3,
     "metadata": {},
     "output_type": "execute_result"
    }
   ],
   "source": [
    "hts = torch.tensor([0.0,-1.0])\n",
    "x0 = torch.tensor([1.0,0.0])\n",
    "\n",
    "torch.remainder(torch.acos(hts[0]/torch.linalg.norm(hts[:],dim=-1)),2*np.pi).T\n",
    "torch.acos(hts[0]/torch.linalg.norm(hts[:],dim=-1))"
   ]
  },
  {
   "cell_type": "code",
   "execution_count": 4,
   "metadata": {},
   "outputs": [
    {
     "data": {
      "text/plain": [
       "1.5707963267948966"
      ]
     },
     "execution_count": 4,
     "metadata": {},
     "output_type": "execute_result"
    }
   ],
   "source": [
    "hts = np.array([0.0,1.0])\n",
    "x0 = np.array([1.0,0.0])\n",
    "\n",
    "np.arccos(np.clip(np.dot(hts/np.linalg.norm(hts), x0), -1.0, 1.0))"
   ]
  },
  {
   "cell_type": "code",
   "execution_count": 5,
   "metadata": {},
   "outputs": [
    {
     "data": {
      "text/plain": [
       "tensor([3.1316, 1.5708, 1.5708])"
      ]
     },
     "execution_count": 5,
     "metadata": {},
     "output_type": "execute_result"
    }
   ],
   "source": [
    "x = torch.tensor([[-1.0,-0.01,0.0],[0.0,1.0,0.0],[0.0,0.0,1.0]])\n",
    "torch.acos(x[:,0]/torch.norm(x[:,:],dim=-1))"
   ]
  },
  {
   "cell_type": "code",
   "execution_count": 6,
   "metadata": {},
   "outputs": [
    {
     "data": {
      "text/plain": [
       "tensor([3.0832, 3.0000, 0.0000])"
      ]
     },
     "execution_count": 6,
     "metadata": {},
     "output_type": "execute_result"
    }
   ],
   "source": [
    "angles = torch.tensor([3.2,3.0,0.0])\n",
    "np.pi - torch.abs(angles - np.pi)"
   ]
  },
  {
   "cell_type": "code",
   "execution_count": 7,
   "metadata": {},
   "outputs": [
    {
     "data": {
      "text/plain": [
       "tensor([[1.5708],\n",
       "        [1.5708]])"
      ]
     },
     "execution_count": 7,
     "metadata": {},
     "output_type": "execute_result"
    }
   ],
   "source": [
    "hts = torch.tensor([[[0.0,-1.0],[0.0,1.0]],[[0.0,-1.0],[0.0,1.0]]])\n",
    "#\n",
    "\n",
    "torch.acos(torch.clamp(hts[1:,:,0]/torch.clamp(torch.norm(hts[1:,:,:],dim=-1),min=0.00001),-1.0,1.0)).T"
   ]
  },
  {
   "cell_type": "code",
   "execution_count": 8,
   "metadata": {},
   "outputs": [
    {
     "data": {
      "text/plain": [
       "tensor([3.1416, 0.0000])"
      ]
     },
     "execution_count": 8,
     "metadata": {},
     "output_type": "execute_result"
    }
   ],
   "source": [
    "torch.acos(torch.clamp(torch.tensor([-2,2]),-1.0,1.0))"
   ]
  },
  {
   "cell_type": "code",
   "execution_count": 9,
   "metadata": {},
   "outputs": [],
   "source": [
    "for i in range(1,1):\n",
    "    print(i)"
   ]
  },
  {
   "cell_type": "code",
   "execution_count": 10,
   "metadata": {},
   "outputs": [
    {
     "ename": "NameError",
     "evalue": "name 'self' is not defined",
     "output_type": "error",
     "traceback": [
      "\u001b[1;31m---------------------------------------------------------------------------\u001b[0m",
      "\u001b[1;31mNameError\u001b[0m                                 Traceback (most recent call last)",
      "Cell \u001b[1;32mIn[10], line 3\u001b[0m\n\u001b[0;32m      1\u001b[0m \u001b[39mimport\u001b[39;00m \u001b[39mnumpy\u001b[39;00m \u001b[39mas\u001b[39;00m \u001b[39mnp\u001b[39;00m\n\u001b[1;32m----> 3\u001b[0m i \u001b[39m=\u001b[39m np\u001b[39m.\u001b[39marange(\u001b[39m1\u001b[39m,\u001b[39mself\u001b[39;49m\u001b[39m.\u001b[39mtime_steps)\n\u001b[0;32m      4\u001b[0m j \u001b[39m=\u001b[39m np\u001b[39m.\u001b[39marange(\u001b[39m1\u001b[39m,\u001b[39mmin\u001b[39m(\u001b[39mself\u001b[39m\u001b[39m.\u001b[39mtime_steps\u001b[39m/\u001b[39m\u001b[39m/\u001b[39m\u001b[39m2\u001b[39m\u001b[39m-\u001b[39m\u001b[39mint\u001b[39m(\u001b[39mself\u001b[39m\u001b[39m.\u001b[39mtime_steps\u001b[39m*\u001b[39m\u001b[39m0.1\u001b[39m),i)\u001b[39m+\u001b[39m\u001b[39m1\u001b[39m)\n\u001b[0;32m      5\u001b[0m angle_test \u001b[39m=\u001b[39m torch\u001b[39m.\u001b[39mabs(torch\u001b[39m.\u001b[39macos(torch\u001b[39m.\u001b[39mclamp(torch\u001b[39m.\u001b[39msum(y[i]\u001b[39m*\u001b[39my[i\u001b[39m-\u001b[39mj],dim\u001b[39m=\u001b[39m\u001b[39m-\u001b[39m\u001b[39m1\u001b[39m)\u001b[39m/\u001b[39m(torch\u001b[39m.\u001b[39mnorm(y[i],dim\u001b[39m=\u001b[39m\u001b[39m-\u001b[39m\u001b[39m1\u001b[39m)\u001b[39m*\u001b[39mtorch\u001b[39m.\u001b[39mnorm(y[i\u001b[39m-\u001b[39mj],dim\u001b[39m=\u001b[39m\u001b[39m-\u001b[39m\u001b[39m1\u001b[39m)),\u001b[39m-\u001b[39m\u001b[39m1.0\u001b[39m,\u001b[39m1.0\u001b[39m)))\n",
      "\u001b[1;31mNameError\u001b[0m: name 'self' is not defined"
     ]
    }
   ],
   "source": [
    "import numpy as np\n",
    "\n",
    "i = np.arange(1,self.time_steps)\n",
    "j = np.arange(1,min(self.time_steps//2-int(self.time_steps*0.1),i)+1)\n",
    "angle_test = torch.abs(torch.acos(torch.clamp(torch.sum(y[i]*y[i-j],dim=-1)/(torch.norm(y[i],dim=-1)*torch.norm(y[i-j],dim=-1)),-1.0,1.0)))\n",
    "angle_theoretical = y_hat[i]-y_hat[i-j]\n",
    "angle_loss += np.mean((angle_test-angle_theoretical)**2)"
   ]
  },
  {
   "cell_type": "code",
   "execution_count": null,
   "metadata": {},
   "outputs": [
    {
     "data": {
      "text/plain": [
       "torch.Size([64, 21])"
      ]
     },
     "execution_count": 30,
     "metadata": {},
     "output_type": "execute_result"
    }
   ],
   "source": [
    "y = torch.ones((64,20))\n",
    "y = torch.concat((torch.zeros((64,1)),y),dim=1)\n",
    "y.shape"
   ]
  },
  {
   "cell_type": "code",
   "execution_count": null,
   "metadata": {},
   "outputs": [
    {
     "data": {
      "text/plain": [
       "tensor([32, 32])"
      ]
     },
     "execution_count": 21,
     "metadata": {},
     "output_type": "execute_result"
    }
   ],
   "source": [
    "a = torch.tensor([[1,2,3],[1,2,3]])\n",
    "b = torch.tensor([[4,5,6],[4,5,6]])\n",
    "torch.sum(a*b,dim=-1)"
   ]
  },
  {
   "cell_type": "code",
   "execution_count": null,
   "metadata": {},
   "outputs": [],
   "source": [
    "for i in range(1,time_steps):\n",
    "    # Iterate through 1 to i followed up to time_steps//2 minus 10% of time_steps as explained in obsidian notes\n",
    "    for j in range(1,min(time_steps//2-int(time_steps*0.1),i)+1):\n",
    "        # print(y.shape,y_hat.shape)\n",
    "        # Check angles between hts at time i and i-j\n",
    "        # angle_test = torch.abs(torch.acos(torch.clamp(torch.sum(y[i]*y[i-j],dim=-1)/(torch.norm(y[i],dim=-1)*torch.norm(y[i-j],dim=-1)),-1.0,1.0)))\n",
    "        normalizer = 1/(torch.norm(y[i],dim=-1)*torch.norm(y[i-j],dim=-1))\n",
    "        # Check if y has any NaNs\n",
    "        if y.isnan().any():\n",
    "            print(\"y has NaNs\")\n",
    "        # Check if normalizer has any 0s\n",
    "        if normalizer.isnan().any():\n",
    "            print(\"normalizer has NaNs\")\n",
    "        angle_test = torch.abs(torch.acos(torch.clamp(torch.sum(y[i]*y[i-j],dim=-1)*normalizer,-0.9999,0.9999)))\n",
    "        # Check if angle_test has any NaNs\n",
    "        if angle_test.isnan().any():\n",
    "            print(\"angle_test has NaNs\")\n",
    "        angle_theoretical = (y_hat[i]-y_hat[i-j])\n",
    "        angle_loss += torch.mean((angle_test-angle_theoretical)**2)\n"
   ]
  },
  {
   "cell_type": "code",
   "execution_count": 18,
   "metadata": {},
   "outputs": [
    {
     "data": {
      "text/plain": [
       "tensor([[1., 1., 1., 1., 1., 1., 1.],\n",
       "        [0., 1., 1., 1., 1., 1., 1.],\n",
       "        [0., 0., 1., 1., 1., 1., 1.],\n",
       "        [0., 0., 0., 1., 1., 1., 1.],\n",
       "        [0., 0., 0., 0., 1., 1., 1.],\n",
       "        [0., 0., 0., 0., 0., 1., 1.],\n",
       "        [0., 0., 0., 0., 0., 0., 1.],\n",
       "        [0., 0., 0., 0., 0., 0., 0.],\n",
       "        [0., 0., 0., 0., 0., 0., 0.],\n",
       "        [0., 0., 0., 0., 0., 0., 0.],\n",
       "        [0., 0., 0., 0., 0., 0., 0.],\n",
       "        [0., 0., 0., 0., 0., 0., 0.],\n",
       "        [0., 0., 0., 0., 0., 0., 0.],\n",
       "        [0., 0., 0., 0., 0., 0., 0.],\n",
       "        [0., 0., 0., 0., 0., 0., 0.],\n",
       "        [0., 0., 0., 0., 0., 0., 0.],\n",
       "        [0., 0., 0., 0., 0., 0., 0.],\n",
       "        [0., 0., 0., 0., 0., 0., 0.],\n",
       "        [0., 0., 0., 0., 0., 0., 0.],\n",
       "        [0., 0., 0., 0., 0., 0., 0.]])"
      ]
     },
     "execution_count": 18,
     "metadata": {},
     "output_type": "execute_result"
    }
   ],
   "source": [
    "time_steps = 21\n",
    "\n",
    "i = torch.arange(1, time_steps).unsqueeze(1)\n",
    "j = torch.arange(1, time_steps//2-int(time_steps*0.1)).unsqueeze(0)\n",
    "mask = (i <= j).float()\n",
    "\n",
    "mask"
   ]
  },
  {
   "cell_type": "code",
   "execution_count": null,
   "metadata": {},
   "outputs": [],
   "source": [
    "i = torch.arange(1, time_steps).unsqueeze(1)\n",
    "j = torch.arange(1, time_steps//2-int(time_steps*0.1)).unsqueeze(0)\n",
    "mask = (i >= j).float()\n",
    "j = j * mask\n",
    "# Convert i and j to int\n",
    "i = i.long()\n",
    "j = j.long()\n",
    "normalizer = 1 / (torch.norm(y[i], dim=-1) * torch.norm(y[i-j], dim=-1))\n",
    "angle_test = torch.abs(torch.acos(torch.clamp(torch.sum(y[i]*y[i-j], dim=-1) * normalizer, -0.9999, 0.9999)))\n",
    "angle_theoretical = (y_hat[i]-y_hat[i-j])\n",
    "angle_loss = torch.mean((angle_test-angle_theoretical)**2)"
   ]
  },
  {
   "cell_type": "code",
   "execution_count": null,
   "metadata": {},
   "outputs": [],
   "source": [
    "for i in range(1,time_steps):\n",
    "    for j in range(1,min(time_steps//2-int(time_steps*0.1),i)+1):\n",
    "        normalizer = 1/(torch.norm(y[i],dim=-1)*torch.norm(y[i-j],dim=-1))\n",
    "        angle_test = torch.abs(torch.acos(torch.clamp(torch.sum(y[i]*y[i-j],dim=-1)*normalizer,-0.9999,0.9999)))\n",
    "        angle_theoretical = (y_hat[i]-y_hat[i-j])\n",
    "        angle_loss += torch.mean((angle_test-angle_theoretical)**2)"
   ]
  },
  {
   "cell_type": "code",
   "execution_count": 32,
   "metadata": {},
   "outputs": [
    {
     "data": {
      "text/plain": [
       "tensor([0.1378, 0.6254, 1.1068, 1.2634, 1.6171, 1.8477, 1.9772, 2.4022, 2.6533,\n",
       "        2.8005, 3.1563, 3.3826, 3.8898, 4.2089, 4.2965, 4.5328, 4.7590, 5.0222,\n",
       "        5.5811, 5.7769, 6.2832])"
      ]
     },
     "execution_count": 32,
     "metadata": {},
     "output_type": "execute_result"
    }
   ],
   "source": [
    "batch_size = 64\n",
    "\n",
    "data,labels = datagen_circular(batch_size,time_steps)\n",
    "y_hat = labels.permute(1,0)\n",
    "y_hat[:,0]"
   ]
  },
  {
   "cell_type": "code",
   "execution_count": 47,
   "metadata": {},
   "outputs": [
    {
     "name": "stdout",
     "output_type": "stream",
     "text": [
      "tensor([[0.4876, 0.0000, 0.0000, 0.0000, 0.0000, 0.0000, 0.0000],\n",
      "        [0.4814, 0.9691, 0.0000, 0.0000, 0.0000, 0.0000, 0.0000],\n",
      "        [0.1566, 0.6380, 1.1256, 0.0000, 0.0000, 0.0000, 0.0000],\n",
      "        [0.3537, 0.5103, 0.9918, 1.4794, 0.0000, 0.0000, 0.0000],\n",
      "        [0.2305, 0.5843, 0.7409, 1.2223, 1.7099, 0.0000, 0.0000],\n",
      "        [0.1295, 0.3601, 0.7138, 0.8704, 1.3518, 1.8394, 0.0000],\n",
      "        [0.4250, 0.5545, 0.7850, 1.1388, 1.2954, 1.7768, 2.2644],\n",
      "        [0.2512, 0.6762, 0.8057, 1.0362, 1.3899, 1.5465, 2.0280],\n",
      "        [0.1472, 0.3983, 0.8233, 0.9529, 1.1834, 1.5371, 1.6937],\n",
      "        [0.3558, 0.5029, 0.7541, 1.1791, 1.3086, 1.5391, 1.8929],\n",
      "        [0.2263, 0.5820, 0.7292, 0.9804, 1.4054, 1.5349, 1.7654],\n",
      "        [0.5073, 0.7335, 1.0893, 1.2365, 1.4876, 1.9126, 2.0422],\n",
      "        [0.3191, 0.8264, 1.0526, 1.4084, 1.5556, 1.8067, 2.2317],\n",
      "        [0.0876, 0.4067, 0.9139, 1.1402, 1.4960, 1.6432, 1.8943],\n",
      "        [0.2363, 0.3239, 0.6430, 1.1502, 1.3765, 1.7323, 1.8795],\n",
      "        [0.2262, 0.4625, 0.5500, 0.8691, 1.3764, 1.6027, 1.9584],\n",
      "        [0.2633, 0.4894, 0.7257, 0.8133, 1.1324, 1.6397, 1.8660],\n",
      "        [0.5589, 0.8221, 1.0483, 1.2846, 1.3722, 1.6913, 2.1986],\n",
      "        [0.1958, 0.7547, 1.0180, 1.2441, 1.4804, 1.5680, 1.8871],\n",
      "        [0.5063, 0.7021, 1.2610, 1.5242, 1.7504, 1.9867, 2.0743]])\n",
      "tensor([0.1378, 0.6254, 1.1068, 1.2634, 1.6171, 1.8477, 1.9772, 2.4022, 2.6533,\n",
      "        2.8005, 3.1563, 3.3826, 3.8898, 4.2089, 4.2965, 4.5328, 4.7590, 5.0222,\n",
      "        5.5811, 5.7769, 6.2832])\n"
     ]
    }
   ],
   "source": [
    "i = torch.arange(1, time_steps).unsqueeze(1)\n",
    "j = torch.arange(1, time_steps//2-int(time_steps*0.1)).unsqueeze(0)\n",
    "mask = (i >= j).float()\n",
    "j = j * mask\n",
    "# Convert i and j to int\n",
    "i = i.long()\n",
    "j = j.long()\n",
    "# print(i)\n",
    "# print(i-j)\n",
    "angle_theoretical = (y_hat[i]-y_hat[i-j])\n",
    "print(angle_theoretical[:,:,0])\n",
    "print(y_hat[:,0])"
   ]
  },
  {
   "cell_type": "code",
   "execution_count": null,
   "metadata": {},
   "outputs": [],
   "source": [
    "((torch.abs(torch.sin(torch.tensor(2*np.pi))-torch.sin(torch.tensor(0))) + torch.abs(torch.cos(torch.tensor(2*np.pi))-torch.cos(torch.tensor(0))))**2).mean()"
   ]
  },
  {
   "cell_type": "code",
   "execution_count": 58,
   "metadata": {},
   "outputs": [
    {
     "data": {
      "text/plain": [
       "(-1.0998615404412626,\n",
       " 1.0998615404412626,\n",
       " -1.0998665198505813,\n",
       " 1.099856450275917)"
      ]
     },
     "execution_count": 58,
     "metadata": {},
     "output_type": "execute_result"
    },
    {
     "data": {
      "image/png": "[encoded data removed]",
      "text/plain": [
       "<Figure size 640x480 with 1 Axes>"
      ]
     },
     "metadata": {},
     "output_type": "display_data"
    }
   ],
   "source": [
    "xs = np.linspace(0,2*np.pi,100)\n",
    "plt.plot(np.sin(xs),np.sin(xs+np.pi/100))\n",
    "plt.axis('equal')"
   ]
  },
  {
   "cell_type": "code",
   "execution_count": 60,
   "metadata": {},
   "outputs": [
    {
     "data": {
      "text/plain": [
       "2"
      ]
     },
     "execution_count": 60,
     "metadata": {},
     "output_type": "execute_result"
    }
   ],
   "source": [
    "2%4"
   ]
  }
 ],
 "metadata": {
  "kernelspec": {
   "display_name": "torch2",
   "language": "python",
   "name": "python3"
  },
  "language_info": {
   "codemirror_mode": {
    "name": "ipython",
    "version": 3
   },
   "file_extension": ".py",
   "mimetype": "text/x-python",
   "name": "python",
   "nbconvert_exporter": "python",
   "pygments_lexer": "ipython3",
   "version": "3.9.16"
  },
  "orig_nbformat": 4
 },
 "nbformat": 4,
 "nbformat_minor": 2
}
