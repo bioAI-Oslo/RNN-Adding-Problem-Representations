{
 "cells": [
  {
   "cell_type": "code",
   "execution_count": 36,
   "metadata": {},
   "outputs": [],
   "source": [
    "import numpy as np\n",
    "import matplotlib.pyplot as plt\n",
    "import matplotlib.cm as cm\n",
    "from tqdm import tqdm\n",
    "from IPython.display import HTML\n",
    "\n",
    "import torch\n",
    "import torch.nn as nn\n",
    "import torch.nn.functional as F\n",
    "from torch.autograd import Variable, functional\n",
    "import torch.optim as optim\n",
    "from torch.utils.data import Dataset, DataLoader\n",
    "from torchsummary import summary\n",
    "\n",
    "import sys\n",
    "sys.path.append('../src')\n",
    "from model import *\n",
    "from datagen import *"
   ]
  },
  {
   "cell_type": "code",
   "execution_count": 37,
   "metadata": {},
   "outputs": [],
   "source": [
    "input_data = np.load(\"../datasets/gradual_2D_hdv_randomstart_5000_25_64.npy\",allow_pickle=True)"
   ]
  },
  {
   "cell_type": "code",
   "execution_count": 38,
   "metadata": {},
   "outputs": [],
   "source": [
    "class Datamodel(Dataset):\n",
    "    def __init__(self,time_pos_points,labels):\n",
    "        self.x = time_pos_points\n",
    "        # self.y0 = time_pos_points[0][:,0,:]\n",
    "        self.y = labels\n",
    "    def __len__(self): \n",
    "        return self.x.shape[0]\n",
    "    def __getitem__(self, ix):\n",
    "        return self.x[ix], self.y[ix]"
   ]
  },
  {
   "cell_type": "code",
   "execution_count": 39,
   "metadata": {},
   "outputs": [],
   "source": [
    "data = input_data[:,0]\n",
    "labels = input_data[:,1]\n",
    "datamodel = Datamodel(data, labels)"
   ]
  },
  {
   "cell_type": "code",
   "execution_count": 28,
   "metadata": {},
   "outputs": [
    {
     "data": {
      "text/plain": [
       "torch.Size([64, 6, 2, 1])"
      ]
     },
     "execution_count": 28,
     "metadata": {},
     "output_type": "execute_result"
    }
   ],
   "source": [
    "d,l = datamodel[100]\n",
    "\n",
    "d.shape"
   ]
  },
  {
   "cell_type": "code",
   "execution_count": 40,
   "metadata": {},
   "outputs": [],
   "source": [
    "data_loader = DataLoader(datamodel, batch_size=1, shuffle=False, num_workers=1)"
   ]
  },
  {
   "cell_type": "code",
   "execution_count": 41,
   "metadata": {},
   "outputs": [
    {
     "name": "stdout",
     "output_type": "stream",
     "text": [
      "torch.Size([1, 64, 2, 2, 1])\n",
      "torch.Size([1, 64, 1, 2])\n"
     ]
    }
   ],
   "source": [
    "for data,labels in data_loader:\n",
    "    print(data.shape)\n",
    "    print(labels.shape)\n",
    "    break"
   ]
  },
  {
   "cell_type": "code",
   "execution_count": 14,
   "metadata": {},
   "outputs": [
    {
     "data": {
      "text/plain": [
       "(5000,)"
      ]
     },
     "execution_count": 14,
     "metadata": {},
     "output_type": "execute_result"
    }
   ],
   "source": [
    "labels.shape"
   ]
  },
  {
   "cell_type": "code",
   "execution_count": 6,
   "metadata": {},
   "outputs": [],
   "source": [
    "n = 100\n",
    "path = input_data[n,1][:,:,:]\n",
    "data = input_data[n,0][:,:,:].squeeze()\n",
    "p0 = data[:,0,:]\n",
    "p1 = path[0]\n",
    "hd = data[:,1:,0]"
   ]
  },
  {
   "cell_type": "code",
   "execution_count": 7,
   "metadata": {},
   "outputs": [
    {
     "data": {
      "text/plain": [
       "torch.Size([64, 5, 2])"
      ]
     },
     "execution_count": 7,
     "metadata": {},
     "output_type": "execute_result"
    }
   ],
   "source": [
    "path.shape"
   ]
  },
  {
   "cell_type": "code",
   "execution_count": 73,
   "metadata": {},
   "outputs": [
    {
     "data": {
      "text/plain": [
       "torch.Size([64, 1])"
      ]
     },
     "execution_count": 73,
     "metadata": {},
     "output_type": "execute_result"
    }
   ],
   "source": [
    "hd.shape"
   ]
  },
  {
   "cell_type": "code",
   "execution_count": 75,
   "metadata": {},
   "outputs": [
    {
     "data": {
      "text/plain": [
       "torch.Size([64, 1, 2])"
      ]
     },
     "execution_count": 75,
     "metadata": {},
     "output_type": "execute_result"
    }
   ],
   "source": [
    "dist_vec = path - p0.unsqueeze(1)\n",
    "# hd_vec = torch.stack([np.cos(hd), np.sin(hd)])\n",
    "dist = torch.norm(dist_vec, dim=1, keepdim=True)\n",
    "dist_angle = torch.atan2(dist_vec[:,:,1], dist_vec[:,:,0])\n",
    "rel_angle = torch.min(torch.remainder(dist_angle - hd, 2*np.pi), torch.remainder(hd - dist_angle, 2*np.pi))\n",
    "dist.shape"
   ]
  },
  {
   "cell_type": "code",
   "execution_count": 54,
   "metadata": {},
   "outputs": [
    {
     "data": {
      "text/plain": [
       "torch.Size([64, 162, 1])"
      ]
     },
     "execution_count": 54,
     "metadata": {},
     "output_type": "execute_result"
    }
   ],
   "source": [
    "input_converted[4000,0][:,:,0].shape"
   ]
  },
  {
   "cell_type": "code",
   "execution_count": 225,
   "metadata": {},
   "outputs": [],
   "source": [
    "for i in range(len(input_data)):\n",
    "    path = input_data[i,1][:,:,:]\n",
    "    data = input_data[i,0][:,:,:].squeeze()\n",
    "    p0 = data[:,0,:]\n",
    "    hd = data[:,1:,0]\n",
    "    dist_vec = path - p0.unsqueeze(1)\n",
    "    dist = torch.norm(dist_vec, dim=2, keepdim=True)\n",
    "    dist_angle = torch.atan2(dist_vec[:,:,1], dist_vec[:,:,0])\n",
    "    # rel_angles = [torch.remainder(dist_angle - hd, 2*np.pi), torch.remainder(hd - dist_angle, 2*np.pi)]\n",
    "    rel_angle = torch.minimum(torch.remainder(dist_angle - hd, 2*np.pi), torch.remainder(hd - dist_angle, 2*np.pi))\n",
    "    # To make angle direction unique\n",
    "    flip = torch.isclose(rel_angle,torch.remainder(dist_angle - hd, 2*np.pi))\n",
    "    rel_angle = torch.where(flip, -rel_angle, rel_angle)\n",
    "    input_data[i,1][:,:,0] = rel_angle\n",
    "    input_data[i,1][:,:,1] = dist.squeeze(-1)\n"
   ]
  },
  {
   "cell_type": "code",
   "execution_count": 233,
   "metadata": {},
   "outputs": [
    {
     "data": {
      "text/plain": [
       "tensor(-1.8908)"
      ]
     },
     "execution_count": 233,
     "metadata": {},
     "output_type": "execute_result"
    }
   ],
   "source": [
    "input_data[2,1][:,:,0].min()"
   ]
  },
  {
   "cell_type": "code",
   "execution_count": 224,
   "metadata": {},
   "outputs": [
    {
     "data": {
      "text/plain": [
       "tensor([[-1., -3.],\n",
       "        [ 1., -5.]])"
      ]
     },
     "execution_count": 224,
     "metadata": {},
     "output_type": "execute_result"
    }
   ],
   "source": [
    "a = torch.stack([torch.Tensor([1,3]),torch.Tensor([4,5])])\n",
    "b = torch.stack([torch.Tensor([3,6]),torch.Tensor([1,7])])\n",
    "# amin = torch.argmin(torch.stack((a,b)),dim=0,keepdim=False)\n",
    "# torch.stack((-a,b))[amin]\n",
    "mins = torch.minimum(a,b)\n",
    "aflip = (a==mins)\n",
    "mins = torch.where(aflip,-mins,mins)\n",
    "mins"
   ]
  },
  {
   "cell_type": "code",
   "execution_count": null,
   "metadata": {},
   "outputs": [],
   "source": [
    "p0 = np.array([1,-1])\n",
    "p1 = np.array([0,1])\n",
    "hd1 = "
   ]
  },
  {
   "cell_type": "code",
   "execution_count": 446,
   "metadata": {},
   "outputs": [
    {
     "name": "stdout",
     "output_type": "stream",
     "text": [
      "Time ellapsed: 0.0000000000\n"
     ]
    },
    {
     "data": {
      "text/plain": [
       "-1"
      ]
     },
     "execution_count": 446,
     "metadata": {},
     "output_type": "execute_result"
    }
   ],
   "source": [
    "import time\n",
    "\n",
    "start = time.time()\n",
    "t = int(np.sign(np.random.randint(0,2,(1,1))-0.5))\n",
    "# t = torch.where(torch.randint(0,2,(2,2)) == 0, torch.ones((2,2)), -torch.ones((2,2)))\n",
    "end = time.time()\n",
    "print(f\"Time ellapsed: {end - start:.10f}\")\n",
    "t"
   ]
  },
  {
   "cell_type": "code",
   "execution_count": 567,
   "metadata": {},
   "outputs": [
    {
     "data": {
      "text/plain": [
       "tensor([0.5000, 0.8660, 1.3660, 0.0000], dtype=torch.float64)"
      ]
     },
     "execution_count": 567,
     "metadata": {},
     "output_type": "execute_result"
    }
   ],
   "source": [
    "basis1 = torch.tensor([np.cos(0), np.sin(0)])\n",
    "basis2 = torch.tensor([np.cos(np.pi/3), np.sin(np.pi/3)])\n",
    "basis3 = torch.tensor([np.cos(2*np.pi/3), np.sin(2*np.pi/3)])\n",
    "\n",
    "basises = torch.stack([basis1, basis2, basis3], dim=0)\n",
    "\n",
    "ts = torch.tensor([[1,0],[0,1],[1,1],[0,0]]).double()\n",
    "\n",
    "torch.matmul(ts,basis2)"
   ]
  },
  {
   "cell_type": "code",
   "execution_count": 572,
   "metadata": {},
   "outputs": [
    {
     "data": {
      "text/plain": [
       "0"
      ]
     },
     "execution_count": 572,
     "metadata": {},
     "output_type": "execute_result"
    }
   ],
   "source": [
    "0**(1)"
   ]
  },
  {
   "cell_type": "code",
   "execution_count": 569,
   "metadata": {},
   "outputs": [
    {
     "data": {
      "text/plain": [
       "torch.Size([3, 2])"
      ]
     },
     "execution_count": 569,
     "metadata": {},
     "output_type": "execute_result"
    }
   ],
   "source": [
    "basises.shape"
   ]
  },
  {
   "cell_type": "code",
   "execution_count": 594,
   "metadata": {},
   "outputs": [
    {
     "name": "stdout",
     "output_type": "stream",
     "text": [
      "1.0 1.0 0.9999999999999999\n",
      "1.0\n"
     ]
    },
    {
     "data": {
      "image/png": "[encoded data removed]",
      "text/plain": [
       "<Figure size 640x480 with 1 Axes>"
      ]
     },
     "metadata": {},
     "output_type": "display_data"
    }
   ],
   "source": [
    "basis1 = np.array([np.cos(0), np.sin(0)])\n",
    "basis2 = np.array([np.cos(np.pi/3), np.sin(np.pi/3)])\n",
    "basis3 = np.array([np.cos(2*np.pi/3), np.sin(2*np.pi/3)])\n",
    "\n",
    "print(np.linalg.norm(basis1), np.linalg.norm(basis2), np.linalg.norm(basis3))\n",
    "\n",
    "test = np.array([np.cos(3*np.pi/2), np.sin(3*np.pi/2)])*2\n",
    "test_norm = np.linalg.norm(test)\n",
    "\n",
    "test_b1 = np.dot(test, basis1)*basis1*2/3\n",
    "test_b2 = np.dot(test, basis2)*basis2*2/3\n",
    "test_b3 = np.dot(test, basis3)*basis3*2/3\n",
    "\n",
    "test_re = (test_b1 + test_b2 + test_b3)\n",
    "\n",
    "print(np.linalg.norm(test_re)/np.linalg.norm(test))\n",
    "\n",
    "# Plot vectors\n",
    "plt.quiver(0, 0, basis1[0], basis1[1], angles='xy', scale_units='xy', scale=1, color='r')\n",
    "plt.quiver(0, 0, basis2[0], basis2[1], angles='xy', scale_units='xy', scale=1, color='g')\n",
    "plt.quiver(0, 0, basis3[0], basis3[1], angles='xy', scale_units='xy', scale=1, color='b')\n",
    "plt.quiver(0, 0, test[0], test[1], angles='xy', scale_units='xy', scale=1, color='k')\n",
    "plt.quiver(0, 0, test_re[0], test_re[1], angles='xy', scale_units='xy', scale=1, color='y')\n",
    "plt.xlim(-3, 3)\n",
    "plt.ylim(-3, 3)\n",
    "plt.legend(['basis1', 'basis2', 'basis3', 'test', 'test_re'])\n",
    "plt.show()"
   ]
  },
  {
   "cell_type": "code",
   "execution_count": 517,
   "metadata": {},
   "outputs": [
    {
     "data": {
      "text/plain": [
       "tensor([0.9253])"
      ]
     },
     "execution_count": 517,
     "metadata": {},
     "output_type": "execute_result"
    }
   ],
   "source": [
    "torch.randn(1)*0.1+1"
   ]
  },
  {
   "cell_type": "code",
   "execution_count": 67,
   "metadata": {},
   "outputs": [
    {
     "data": {
      "text/plain": [
       "False"
      ]
     },
     "execution_count": 67,
     "metadata": {},
     "output_type": "execute_result"
    }
   ],
   "source": [
    "test = (0.49 > 0.5) | (-0.49 < -0.5) | (0.49 > 0.5) | (-0.49 < -0.5)\n",
    "test"
   ]
  },
  {
   "cell_type": "code",
   "execution_count": 14,
   "metadata": {},
   "outputs": [
    {
     "data": {
      "text/plain": [
       "tensor([[ True, False, False, False, False, False],\n",
       "        [False, False,  True, False, False, False],\n",
       "        [False, False, False, False, False, False]], device='cuda:0')"
      ]
     },
     "execution_count": 14,
     "metadata": {},
     "output_type": "execute_result"
    }
   ],
   "source": [
    "bools = torch.tensor([[True, False, True, False,True,True], [False, False, True, True,True,False], [False, False, False, False,False,False]])\n",
    "bools_first_true = torch.zeros_like(bools)\n",
    "# Find first True in each row\n",
    "first_true = torch.argmax(bools.int(), dim=1)\n",
    "bools_first_true[range(bools.shape[0]), first_true] = True\n",
    "# bools[range(bools.shape[0]), first_true] = False\n",
    "torch.logical_and(bools_first_true,bools)"
   ]
  },
  {
   "cell_type": "code",
   "execution_count": 12,
   "metadata": {},
   "outputs": [
    {
     "data": {
      "text/plain": [
       "array([[1, 3, 5],\n",
       "       [2, 4, 6]])"
      ]
     },
     "execution_count": 12,
     "metadata": {},
     "output_type": "execute_result"
    }
   ],
   "source": [
    "a = np.array([[1,2],[3,4],[5,6]])\n",
    "a = a.T\n",
    "a"
   ]
  },
  {
   "cell_type": "code",
   "execution_count": 87,
   "metadata": {},
   "outputs": [
    {
     "data": {
      "text/plain": [
       "tensor([0.2000, 1.5708])"
      ]
     },
     "execution_count": 87,
     "metadata": {},
     "output_type": "execute_result"
    }
   ],
   "source": [
    "a = torch.tensor([0.1,3*np.pi/2])\n",
    "b = torch.tensor([2*np.pi-0.1,np.pi])\n",
    "\n",
    "# b = np.pi\n",
    "# a = 3*np.pi/2\n",
    "\n",
    "\n",
    "# torch.min(torch.remainder(2*np.pi-torch.tensor([a-b]),2*np.pi),torch.remainder(2*np.pi-torch.tensor([b-a]),2*np.pi))\n",
    "# torch.remainder(2*np.pi-torch.tensor(a-b),2*np.pi)\n",
    "torch.min(torch.remainder(2*np.pi-(a-b),2*np.pi),torch.remainder(2*np.pi-(b-a),2*np.pi))"
   ]
  },
  {
   "cell_type": "code",
   "execution_count": 6,
   "metadata": {},
   "outputs": [
    {
     "data": {
      "text/plain": [
       "tensor([[6.2180, 0.1501, 0.0377,  ..., 3.8635, 3.5993, 3.7247],\n",
       "        [5.9435, 0.0652, 5.6777,  ..., 2.8352, 2.1578, 1.7669],\n",
       "        [0.7006, 0.3513, 0.7658,  ..., 2.0174, 2.2486, 1.9060],\n",
       "        ...,\n",
       "        [5.9948, 5.7847, 5.6895,  ..., 5.7073, 5.8450, 5.3386],\n",
       "        [5.8313, 5.5819, 5.6002,  ..., 1.1775, 1.4078, 1.4631],\n",
       "        [6.1537, 6.1682, 6.0541,  ..., 1.4431, 1.9224, 2.1347]])"
      ]
     },
     "execution_count": 6,
     "metadata": {},
     "output_type": "execute_result"
    }
   ],
   "source": [
    "data,labels, path = datagen_lowetal_direct(100,21)\n",
    "\n",
    "path"
   ]
  },
  {
   "cell_type": "code",
   "execution_count": 2,
   "metadata": {},
   "outputs": [
    {
     "name": "stderr",
     "output_type": "stream",
     "text": [
      "C:\\Users\\matti\\AppData\\Local\\Temp\\ipykernel_4052\\1993663843.py:4: UserWarning: Tensor.T is deprecated on 0-D tensors. This function is the identity in these cases. (Triggered internally at C:\\cb\\pytorch_1000000000000\\work\\aten\\src\\ATen\\native\\TensorShape.cpp:3586.)\n",
      "  torch.remainder(torch.acos(hts[0]/torch.linalg.norm(hts[:],dim=-1)),2*np.pi).T\n"
     ]
    },
    {
     "data": {
      "text/plain": [
       "tensor(1.5708)"
      ]
     },
     "execution_count": 2,
     "metadata": {},
     "output_type": "execute_result"
    }
   ],
   "source": [
    "hts = torch.tensor([0.0,-1.0])\n",
    "x0 = torch.tensor([1.0,0.0])\n",
    "\n",
    "torch.remainder(torch.acos(hts[0]/torch.linalg.norm(hts[:],dim=-1)),2*np.pi).T\n",
    "torch.acos(hts[0]/torch.linalg.norm(hts[:],dim=-1))"
   ]
  },
  {
   "cell_type": "code",
   "execution_count": 3,
   "metadata": {},
   "outputs": [
    {
     "data": {
      "text/plain": [
       "1.5707963267948966"
      ]
     },
     "execution_count": 3,
     "metadata": {},
     "output_type": "execute_result"
    }
   ],
   "source": [
    "hts = np.array([0.0,1.0])\n",
    "x0 = np.array([1.0,0.0])\n",
    "\n",
    "np.arccos(np.clip(np.dot(hts/np.linalg.norm(hts), x0), -1.0, 1.0))"
   ]
  },
  {
   "cell_type": "code",
   "execution_count": 4,
   "metadata": {},
   "outputs": [
    {
     "data": {
      "text/plain": [
       "tensor([3.1316, 1.5708, 1.5708])"
      ]
     },
     "execution_count": 4,
     "metadata": {},
     "output_type": "execute_result"
    }
   ],
   "source": [
    "x = torch.tensor([[-1.0,-0.01,0.0],[0.0,1.0,0.0],[0.0,0.0,1.0]])\n",
    "torch.acos(x[:,0]/torch.norm(x[:,:],dim=-1))"
   ]
  },
  {
   "cell_type": "code",
   "execution_count": 5,
   "metadata": {},
   "outputs": [
    {
     "data": {
      "text/plain": [
       "tensor([3.0832, 3.0000, 0.0000])"
      ]
     },
     "execution_count": 5,
     "metadata": {},
     "output_type": "execute_result"
    }
   ],
   "source": [
    "angles = torch.tensor([3.2,3.0,0.0])\n",
    "np.pi - torch.abs(angles - np.pi)"
   ]
  },
  {
   "cell_type": "code",
   "execution_count": 6,
   "metadata": {},
   "outputs": [
    {
     "data": {
      "text/plain": [
       "tensor([[1.5708],\n",
       "        [1.5708]])"
      ]
     },
     "execution_count": 6,
     "metadata": {},
     "output_type": "execute_result"
    }
   ],
   "source": [
    "hts = torch.tensor([[[0.0,-1.0],[0.0,1.0]],[[0.0,-1.0],[0.0,1.0]]])\n",
    "#\n",
    "\n",
    "torch.acos(torch.clamp(hts[1:,:,0]/torch.clamp(torch.norm(hts[1:,:,:],dim=-1),min=0.00001),-1.0,1.0)).T"
   ]
  },
  {
   "cell_type": "code",
   "execution_count": 7,
   "metadata": {},
   "outputs": [
    {
     "data": {
      "text/plain": [
       "tensor([3.1416, 0.0000])"
      ]
     },
     "execution_count": 7,
     "metadata": {},
     "output_type": "execute_result"
    }
   ],
   "source": [
    "torch.acos(torch.clamp(torch.tensor([-2,2]),-1.0,1.0))"
   ]
  },
  {
   "cell_type": "code",
   "execution_count": 8,
   "metadata": {},
   "outputs": [],
   "source": [
    "for i in range(1,1):\n",
    "    print(i)"
   ]
  },
  {
   "cell_type": "code",
   "execution_count": 9,
   "metadata": {},
   "outputs": [
    {
     "ename": "NameError",
     "evalue": "name 'self' is not defined",
     "output_type": "error",
     "traceback": [
      "\u001b[1;31m---------------------------------------------------------------------------\u001b[0m",
      "\u001b[1;31mNameError\u001b[0m                                 Traceback (most recent call last)",
      "Cell \u001b[1;32mIn[9], line 3\u001b[0m\n\u001b[0;32m      1\u001b[0m \u001b[39mimport\u001b[39;00m \u001b[39mnumpy\u001b[39;00m \u001b[39mas\u001b[39;00m \u001b[39mnp\u001b[39;00m\n\u001b[1;32m----> 3\u001b[0m i \u001b[39m=\u001b[39m np\u001b[39m.\u001b[39marange(\u001b[39m1\u001b[39m,\u001b[39mself\u001b[39;49m\u001b[39m.\u001b[39mtime_steps)\n\u001b[0;32m      4\u001b[0m j \u001b[39m=\u001b[39m np\u001b[39m.\u001b[39marange(\u001b[39m1\u001b[39m,\u001b[39mmin\u001b[39m(\u001b[39mself\u001b[39m\u001b[39m.\u001b[39mtime_steps\u001b[39m/\u001b[39m\u001b[39m/\u001b[39m\u001b[39m2\u001b[39m\u001b[39m-\u001b[39m\u001b[39mint\u001b[39m(\u001b[39mself\u001b[39m\u001b[39m.\u001b[39mtime_steps\u001b[39m*\u001b[39m\u001b[39m0.1\u001b[39m),i)\u001b[39m+\u001b[39m\u001b[39m1\u001b[39m)\n\u001b[0;32m      5\u001b[0m angle_test \u001b[39m=\u001b[39m torch\u001b[39m.\u001b[39mabs(torch\u001b[39m.\u001b[39macos(torch\u001b[39m.\u001b[39mclamp(torch\u001b[39m.\u001b[39msum(y[i]\u001b[39m*\u001b[39my[i\u001b[39m-\u001b[39mj],dim\u001b[39m=\u001b[39m\u001b[39m-\u001b[39m\u001b[39m1\u001b[39m)\u001b[39m/\u001b[39m(torch\u001b[39m.\u001b[39mnorm(y[i],dim\u001b[39m=\u001b[39m\u001b[39m-\u001b[39m\u001b[39m1\u001b[39m)\u001b[39m*\u001b[39mtorch\u001b[39m.\u001b[39mnorm(y[i\u001b[39m-\u001b[39mj],dim\u001b[39m=\u001b[39m\u001b[39m-\u001b[39m\u001b[39m1\u001b[39m)),\u001b[39m-\u001b[39m\u001b[39m1.0\u001b[39m,\u001b[39m1.0\u001b[39m)))\n",
      "\u001b[1;31mNameError\u001b[0m: name 'self' is not defined"
     ]
    }
   ],
   "source": [
    "import numpy as np\n",
    "\n",
    "i = np.arange(1,self.time_steps)\n",
    "j = np.arange(1,min(self.time_steps//2-int(self.time_steps*0.1),i)+1)\n",
    "angle_test = torch.abs(torch.acos(torch.clamp(torch.sum(y[i]*y[i-j],dim=-1)/(torch.norm(y[i],dim=-1)*torch.norm(y[i-j],dim=-1)),-1.0,1.0)))\n",
    "angle_theoretical = y_hat[i]-y_hat[i-j]\n",
    "angle_loss += np.mean((angle_test-angle_theoretical)**2)"
   ]
  },
  {
   "cell_type": "code",
   "execution_count": 13,
   "metadata": {},
   "outputs": [
    {
     "data": {
      "text/plain": [
       "torch.Size([64, 21])"
      ]
     },
     "execution_count": 13,
     "metadata": {},
     "output_type": "execute_result"
    }
   ],
   "source": [
    "y = torch.ones((64,20))\n",
    "y = torch.concat((torch.zeros((64,1)),y),dim=1)\n",
    "y.shape"
   ]
  },
  {
   "cell_type": "code",
   "execution_count": 14,
   "metadata": {},
   "outputs": [
    {
     "data": {
      "text/plain": [
       "tensor([32, 32])"
      ]
     },
     "execution_count": 14,
     "metadata": {},
     "output_type": "execute_result"
    }
   ],
   "source": [
    "a = torch.tensor([[1,2,3],[1,2,3]])\n",
    "b = torch.tensor([[4,5,6],[4,5,6]])\n",
    "torch.sum(a*b,dim=-1)"
   ]
  },
  {
   "cell_type": "code",
   "execution_count": 15,
   "metadata": {},
   "outputs": [
    {
     "ename": "NameError",
     "evalue": "name 'y_hat' is not defined",
     "output_type": "error",
     "traceback": [
      "\u001b[1;31m---------------------------------------------------------------------------\u001b[0m",
      "\u001b[1;31mNameError\u001b[0m                                 Traceback (most recent call last)",
      "Cell \u001b[1;32mIn[15], line 18\u001b[0m\n\u001b[0;32m     16\u001b[0m \u001b[39mif\u001b[39;00m angle_test\u001b[39m.\u001b[39misnan()\u001b[39m.\u001b[39many():\n\u001b[0;32m     17\u001b[0m     \u001b[39mprint\u001b[39m(\u001b[39m\"\u001b[39m\u001b[39mangle_test has NaNs\u001b[39m\u001b[39m\"\u001b[39m)\n\u001b[1;32m---> 18\u001b[0m angle_theoretical \u001b[39m=\u001b[39m (y_hat[i]\u001b[39m-\u001b[39my_hat[i\u001b[39m-\u001b[39mj])\n\u001b[0;32m     19\u001b[0m angle_loss \u001b[39m+\u001b[39m\u001b[39m=\u001b[39m torch\u001b[39m.\u001b[39mmean((angle_test\u001b[39m-\u001b[39mangle_theoretical)\u001b[39m*\u001b[39m\u001b[39m*\u001b[39m\u001b[39m2\u001b[39m)\n",
      "\u001b[1;31mNameError\u001b[0m: name 'y_hat' is not defined"
     ]
    }
   ],
   "source": [
    "for i in range(1,time_steps):\n",
    "    # Iterate through 1 to i followed up to time_steps//2 minus 10% of time_steps as explained in obsidian notes\n",
    "    for j in range(1,min(time_steps//2-int(time_steps*0.1),i)+1):\n",
    "        # print(y.shape,y_hat.shape)\n",
    "        # Check angles between hts at time i and i-j\n",
    "        # angle_test = torch.abs(torch.acos(torch.clamp(torch.sum(y[i]*y[i-j],dim=-1)/(torch.norm(y[i],dim=-1)*torch.norm(y[i-j],dim=-1)),-1.0,1.0)))\n",
    "        normalizer = 1/(torch.norm(y[i],dim=-1)*torch.norm(y[i-j],dim=-1))\n",
    "        # Check if y has any NaNs\n",
    "        if y.isnan().any():\n",
    "            print(\"y has NaNs\")\n",
    "        # Check if normalizer has any 0s\n",
    "        if normalizer.isnan().any():\n",
    "            print(\"normalizer has NaNs\")\n",
    "        angle_test = torch.abs(torch.acos(torch.clamp(torch.sum(y[i]*y[i-j],dim=-1)*normalizer,-0.9999,0.9999)))\n",
    "        # Check if angle_test has any NaNs\n",
    "        if angle_test.isnan().any():\n",
    "            print(\"angle_test has NaNs\")\n",
    "        angle_theoretical = (y_hat[i]-y_hat[i-j])\n",
    "        angle_loss += torch.mean((angle_test-angle_theoretical)**2)\n"
   ]
  },
  {
   "cell_type": "code",
   "execution_count": 63,
   "metadata": {},
   "outputs": [
    {
     "data": {
      "text/plain": [
       "tensor([[7.0000],\n",
       "        [3.5000],\n",
       "        [2.3333],\n",
       "        [1.7500],\n",
       "        [1.4000],\n",
       "        [1.1667],\n",
       "        [1.0000],\n",
       "        [1.0000],\n",
       "        [1.0000],\n",
       "        [1.0000],\n",
       "        [1.0000],\n",
       "        [1.0000],\n",
       "        [1.0000],\n",
       "        [1.0000],\n",
       "        [1.0000],\n",
       "        [1.0000],\n",
       "        [1.0000],\n",
       "        [1.0000],\n",
       "        [1.0000],\n",
       "        [1.0000]])"
      ]
     },
     "execution_count": 63,
     "metadata": {},
     "output_type": "execute_result"
    }
   ],
   "source": [
    "time_steps = 21\n",
    "\n",
    "i = torch.arange(1, time_steps).unsqueeze(1)\n",
    "j = torch.arange(1, time_steps//2-int(time_steps*0.1)).unsqueeze(0)\n",
    "mask = (i >= j).long()\n",
    "\n",
    "# j = j[mask]\n",
    "# j = j.long()\n",
    "# i = i.long()\n",
    "# i-j\n",
    "mask_dim2 = mask.shape[1]\n",
    "mask_loss_scale = mask_dim2/mask.sum(dim=1).unsqueeze(1)\n",
    "mask_loss_scale"
   ]
  },
  {
   "cell_type": "code",
   "execution_count": 51,
   "metadata": {},
   "outputs": [
    {
     "data": {
      "text/plain": [
       "torch.Size([20, 7])"
      ]
     },
     "execution_count": 51,
     "metadata": {},
     "output_type": "execute_result"
    }
   ],
   "source": [
    "i = torch.arange(1,time_steps).unsqueeze(1)\n",
    "j = torch.arange(1,time_steps//2-int(time_steps*0.1)).unsqueeze(0)\n",
    "mask = (j <= i)\n",
    "i = i*mask\n",
    "j = j*mask\n",
    "\n",
    "i.shape"
   ]
  },
  {
   "cell_type": "code",
   "execution_count": 17,
   "metadata": {},
   "outputs": [
    {
     "ename": "NameError",
     "evalue": "name 'y_hat' is not defined",
     "output_type": "error",
     "traceback": [
      "\u001b[1;31m---------------------------------------------------------------------------\u001b[0m",
      "\u001b[1;31mNameError\u001b[0m                                 Traceback (most recent call last)",
      "Cell \u001b[1;32mIn[17], line 10\u001b[0m\n\u001b[0;32m      8\u001b[0m normalizer \u001b[39m=\u001b[39m \u001b[39m1\u001b[39m \u001b[39m/\u001b[39m (torch\u001b[39m.\u001b[39mnorm(y[i], dim\u001b[39m=\u001b[39m\u001b[39m-\u001b[39m\u001b[39m1\u001b[39m) \u001b[39m*\u001b[39m torch\u001b[39m.\u001b[39mnorm(y[i\u001b[39m-\u001b[39mj], dim\u001b[39m=\u001b[39m\u001b[39m-\u001b[39m\u001b[39m1\u001b[39m))\n\u001b[0;32m      9\u001b[0m angle_test \u001b[39m=\u001b[39m torch\u001b[39m.\u001b[39mabs(torch\u001b[39m.\u001b[39macos(torch\u001b[39m.\u001b[39mclamp(torch\u001b[39m.\u001b[39msum(y[i]\u001b[39m*\u001b[39my[i\u001b[39m-\u001b[39mj], dim\u001b[39m=\u001b[39m\u001b[39m-\u001b[39m\u001b[39m1\u001b[39m) \u001b[39m*\u001b[39m normalizer, \u001b[39m-\u001b[39m\u001b[39m0.9999\u001b[39m, \u001b[39m0.9999\u001b[39m)))\n\u001b[1;32m---> 10\u001b[0m angle_theoretical \u001b[39m=\u001b[39m (y_hat[i]\u001b[39m-\u001b[39my_hat[i\u001b[39m-\u001b[39mj])\n\u001b[0;32m     11\u001b[0m angle_loss \u001b[39m=\u001b[39m torch\u001b[39m.\u001b[39mmean((angle_test\u001b[39m-\u001b[39mangle_theoretical)\u001b[39m*\u001b[39m\u001b[39m*\u001b[39m\u001b[39m2\u001b[39m)\n",
      "\u001b[1;31mNameError\u001b[0m: name 'y_hat' is not defined"
     ]
    }
   ],
   "source": [
    "i = torch.arange(1, time_steps).unsqueeze(1)\n",
    "j = torch.arange(1, time_steps//2-int(time_steps*0.1)).unsqueeze(0)\n",
    "mask = (i >= j).float()\n",
    "j = j * mask\n",
    "# Convert i and j to int\n",
    "i = i.long()\n",
    "j = j.long()\n",
    "normalizer = 1 / (torch.norm(y[i], dim=-1) * torch.norm(y[i-j], dim=-1))\n",
    "angle_test = torch.abs(torch.acos(torch.clamp(torch.sum(y[i]*y[i-j], dim=-1) * normalizer, -0.9999, 0.9999)))\n",
    "angle_theoretical = (y_hat[i]-y_hat[i-j])\n",
    "angle_loss = torch.mean((angle_test-angle_theoretical)**2)"
   ]
  },
  {
   "cell_type": "code",
   "execution_count": null,
   "metadata": {},
   "outputs": [],
   "source": [
    "for i in range(1,time_steps):\n",
    "    for j in range(1,min(time_steps//2-int(time_steps*0.1),i)+1):\n",
    "        normalizer = 1/(torch.norm(y[i],dim=-1)*torch.norm(y[i-j],dim=-1))\n",
    "        angle_test = torch.abs(torch.acos(torch.clamp(torch.sum(y[i]*y[i-j],dim=-1)*normalizer,-0.9999,0.9999)))\n",
    "        angle_theoretical = (y_hat[i]-y_hat[i-j])\n",
    "        angle_loss += torch.mean((angle_test-angle_theoretical)**2)"
   ]
  },
  {
   "cell_type": "code",
   "execution_count": 21,
   "metadata": {},
   "outputs": [
    {
     "data": {
      "text/plain": [
       "tensor([0.5459, 1.2050, 1.3522, 1.7030, 1.9419, 2.4670, 2.6512, 2.7493, 2.9576,\n",
       "        3.1823, 3.3578, 3.5326, 3.9673, 4.2257, 4.6277, 4.8600, 4.9038, 5.5184,\n",
       "        5.8235, 6.1041, 6.2832])"
      ]
     },
     "execution_count": 21,
     "metadata": {},
     "output_type": "execute_result"
    }
   ],
   "source": [
    "batch_size = 64\n",
    "\n",
    "data,labels = datagen_circular(batch_size,time_steps)\n",
    "y_hat = labels.permute(1,0)\n",
    "y_hat[:,0]"
   ]
  },
  {
   "cell_type": "code",
   "execution_count": 23,
   "metadata": {},
   "outputs": [],
   "source": [
    "time_steps = 21\n",
    "\n",
    "i = torch.arange(1, time_steps).unsqueeze(1)\n",
    "j = torch.arange(1, time_steps//2-int(time_steps*0.1)).unsqueeze(0)\n",
    "mask = (j <= i).float()\n",
    "j = j * mask\n",
    "# Convert i and j to int\n",
    "i = i.long()\n",
    "j = j.long()\n",
    "# print(i)\n",
    "# print(i-j)\n",
    "# angle_theoretical = (y_hat[i]-y_hat[i-j])\n",
    "# print(angle_theoretical[:,:,0])\n",
    "# print(y_hat[:,0])"
   ]
  },
  {
   "cell_type": "code",
   "execution_count": null,
   "metadata": {},
   "outputs": [],
   "source": [
    "((torch.abs(torch.sin(torch.tensor(2*np.pi))-torch.sin(torch.tensor(0))) + torch.abs(torch.cos(torch.tensor(2*np.pi))-torch.cos(torch.tensor(0))))**2).mean()"
   ]
  },
  {
   "cell_type": "code",
   "execution_count": 58,
   "metadata": {},
   "outputs": [
    {
     "data": {
      "text/plain": [
       "(-1.0998615404412626,\n",
       " 1.0998615404412626,\n",
       " -1.0998665198505813,\n",
       " 1.099856450275917)"
      ]
     },
     "execution_count": 58,
     "metadata": {},
     "output_type": "execute_result"
    },
    {
     "data": {
      "image/png": "[encoded data removed]",
      "text/plain": [
       "<Figure size 640x480 with 1 Axes>"
      ]
     },
     "metadata": {},
     "output_type": "display_data"
    }
   ],
   "source": [
    "xs = np.linspace(0,2*np.pi,100)\n",
    "plt.plot(np.sin(xs),np.sin(xs+np.pi/100))\n",
    "plt.axis('equal')"
   ]
  },
  {
   "cell_type": "code",
   "execution_count": 60,
   "metadata": {},
   "outputs": [
    {
     "data": {
      "text/plain": [
       "2"
      ]
     },
     "execution_count": 60,
     "metadata": {},
     "output_type": "execute_result"
    }
   ],
   "source": [
    "# Sjekker om Wh beholder normen til x \n",
    "x = np.random.uniform(size=hidden_size)\n",
    "# x_const = np.ones((100,100))\n",
    "x_const = np.random.uniform(size=(100,hidden_size))\n",
    "print(\"Norm av input:\", np.linalg.norm(x))\n",
    "print(\"Norm av Wh-skalert input\",np.linalg.norm(Wh @ x), \"ratio:\", np.linalg.norm(Wh @ x)/np.linalg.norm(x))\n",
    "# Finner utviklingen av normen av Wh-skalert input\n",
    "for i in range(1,100):\n",
    "    Wx = model1.input.weight.detach().numpy()\n",
    "    Wx_norm = np.linalg.norm(Wx)\n",
    "    x_const[i] = np.linalg.matrix_power(Wh,i) @ x_const[i]\n",
    "    # x_const[i] = np.linalg.matrix_power(Wh,i) @ Wx.squeeze()*x[i]\n",
    "    # x_const[i] = Wx_norm**i* Wh**i @ x_const[i]\n",
    "plt.imshow(x_const)\n",
    "pcm = plt.pcolor(x_const, norm = \"log\")\n",
    "plt.colorbar(pcm)\n",
    "# plt.colorbar()\n",
    "plt.xlabel(\"Dimensjon\")\n",
    "plt.ylabel(\"Wh^i@x\")\n",
    "plt.show()"
   ]
  },
  {
   "cell_type": "code",
   "execution_count": null,
   "metadata": {},
   "outputs": [],
   "source": [
    "for i in range(1,self.time_steps):\n",
    "    # Iterate through 1 to i followed up to time_steps//2 minus 10% of time_steps\n",
    "    for j in range(1,min(self.time_steps//2-int(self.time_steps*0.1),i)+1):\n",
    "        # Check angles between hts at time i and i-j\n",
    "        normalizer = 1/(torch.norm(y[i],dim=-1)*torch.norm(y[i-j],dim=-1))\n",
    "        angle_test = torch.abs(torch.acos(torch.clamp(torch.sum(y[i]*y[i-j],dim=-1)*normalizer,-0.9999,0.9999)))\n",
    "        angle_theoretical = (y_hat[i]-y_hat[i-j])\n",
    "        angle_loss += torch.mean((angle_test-angle_theoretical)**2)"
   ]
  }
 ],
 "metadata": {
  "kernelspec": {
   "display_name": "torch2",
   "language": "python",
   "name": "python3"
  },
  "language_info": {
   "codemirror_mode": {
    "name": "ipython",
    "version": 3
   },
   "file_extension": ".py",
   "mimetype": "text/x-python",
   "name": "python",
   "nbconvert_exporter": "python",
   "pygments_lexer": "ipython3",
   "version": "3.10.12"
  },
  "orig_nbformat": 4
 },
 "nbformat": 4,
 "nbformat_minor": 2
}
