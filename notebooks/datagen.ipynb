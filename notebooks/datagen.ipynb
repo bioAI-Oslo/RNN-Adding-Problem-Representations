{
 "cells": [
  {
   "cell_type": "code",
   "execution_count": 1,
   "metadata": {},
   "outputs": [
    {
     "name": "stderr",
     "output_type": "stream",
     "text": [
      "/home/mattis/anaconda3/envs/torch2/lib/python3.10/site-packages/tqdm/auto.py:21: TqdmWarning: IProgress not found. Please update jupyter and ipywidgets. See https://ipywidgets.readthedocs.io/en/stable/user_install.html\n",
      "  from .autonotebook import tqdm as notebook_tqdm\n"
     ]
    },
    {
     "name": "stdout",
     "output_type": "stream",
     "text": [
      "Running on GPU:  cuda:0\n",
      "Running on GPU:  cuda:0\n",
      "Running on GPU:  cuda:0\n"
     ]
    },
    {
     "name": "stderr",
     "output_type": "stream",
     "text": [
      "/home/mattis/anaconda3/envs/torch2/lib/python3.10/site-packages/umap/distances.py:1063: NumbaDeprecationWarning: The 'nopython' keyword argument was not supplied to the 'numba.jit' decorator. The implicit default value for this argument is currently False, but it will be changed to True in Numba 0.59.0. See https://numba.readthedocs.io/en/stable/reference/deprecation.html#deprecation-of-object-mode-fall-back-behaviour-when-using-jit for details.\n",
      "  @numba.jit()\n",
      "/home/mattis/anaconda3/envs/torch2/lib/python3.10/site-packages/umap/distances.py:1071: NumbaDeprecationWarning: The 'nopython' keyword argument was not supplied to the 'numba.jit' decorator. The implicit default value for this argument is currently False, but it will be changed to True in Numba 0.59.0. See https://numba.readthedocs.io/en/stable/reference/deprecation.html#deprecation-of-object-mode-fall-back-behaviour-when-using-jit for details.\n",
      "  @numba.jit()\n",
      "/home/mattis/anaconda3/envs/torch2/lib/python3.10/site-packages/umap/distances.py:1086: NumbaDeprecationWarning: The 'nopython' keyword argument was not supplied to the 'numba.jit' decorator. The implicit default value for this argument is currently False, but it will be changed to True in Numba 0.59.0. See https://numba.readthedocs.io/en/stable/reference/deprecation.html#deprecation-of-object-mode-fall-back-behaviour-when-using-jit for details.\n",
      "  @numba.jit()\n",
      "/home/mattis/anaconda3/envs/torch2/lib/python3.10/site-packages/umap/umap_.py:660: NumbaDeprecationWarning: The 'nopython' keyword argument was not supplied to the 'numba.jit' decorator. The implicit default value for this argument is currently False, but it will be changed to True in Numba 0.59.0. See https://numba.readthedocs.io/en/stable/reference/deprecation.html#deprecation-of-object-mode-fall-back-behaviour-when-using-jit for details.\n",
      "  @numba.jit()\n"
     ]
    },
    {
     "name": "stdout",
     "output_type": "stream",
     "text": [
      "Running on GPU:  cuda:0\n"
     ]
    }
   ],
   "source": [
    "import numpy as np\n",
    "import matplotlib.pyplot as plt\n",
    "import matplotlib.cm as cm\n",
    "from tqdm import tqdm\n",
    "from IPython.display import HTML\n",
    "# import line_profiler as lp \n",
    "\n",
    "import torch\n",
    "import torch.nn as nn\n",
    "import torch.nn.functional as F\n",
    "from torch.autograd import Variable, functional\n",
    "import torch.optim as optim\n",
    "from torch.utils.data import Dataset, DataLoader\n",
    "\n",
    "import sys\n",
    "sys.path.append('../src')\n",
    "# from model import *\n",
    "from model2D import *\n",
    "from datagen import *\n",
    "from analysis import *\n",
    "from datagen2D import *\n",
    "\n",
    "if torch.cuda.is_available():\n",
    "    device = torch.device(\"cuda:0\")\n",
    "    print(\"Running on GPU: \", device)\n",
    "else:\n",
    "    device = torch.device(\"cpu\")\n",
    "    print(\"Running on CPU\")\n",
    "\n",
    "torch.set_default_device(device)\n",
    "# torch.cuda.synchronize()\n",
    "torch._dynamo.config.suppress_errors = True\n",
    "torch.set_float32_matmul_precision(\"high\")"
   ]
  },
  {
   "cell_type": "code",
   "execution_count": 2,
   "metadata": {},
   "outputs": [
    {
     "name": "stderr",
     "output_type": "stream",
     "text": [
      "  0%|          | 0/2000 [00:00<?, ?it/s]"
     ]
    },
    {
     "name": "stderr",
     "output_type": "stream",
     "text": [
      "100%|██████████| 2000/2000 [14:07<00:00,  2.36it/s]\n",
      "/home/mattis/anaconda3/envs/torch2/lib/python3.10/site-packages/numpy/lib/npyio.py:528: FutureWarning: The input object of type 'Tensor' is an array-like implementing one of the corresponding protocols (`__array__`, `__array_interface__` or `__array_struct__`); but not a sequence (or 0-D). In the future, this object will be coerced as if it was first converted using `np.array(obj)`. To retain the old behaviour, you have to either modify the type 'Tensor', or assign to an empty array created with `np.empty(correct_shape, dtype=object)`.\n",
      "  arr = np.asanyarray(arr)\n",
      "/home/mattis/anaconda3/envs/torch2/lib/python3.10/site-packages/numpy/lib/npyio.py:528: VisibleDeprecationWarning: Creating an ndarray from ragged nested sequences (which is a list-or-tuple of lists-or-tuples-or ndarrays with different lengths or shapes) is deprecated. If you meant to do this, you must specify 'dtype=object' when creating the ndarray.\n",
      "  arr = np.asanyarray(arr)\n"
     ]
    },
    {
     "name": "stdout",
     "output_type": "stream",
     "text": [
      "Last training time steps: 201\n"
     ]
    }
   ],
   "source": [
    "# # Generate dataset and save in ../datasets\n",
    "# # First generate gradual gradual dataset\n",
    "\n",
    "def train_gradual_gen(epochs,batch_size=64,per=15):\n",
    "    i = 0\n",
    "    training_steps = 1\n",
    "    gen_data = []\n",
    "    for epoch in tqdm(range(epochs)):\n",
    "        # data,labels = smooth_wandering_2D_squarefix(batch_size,training_steps,bound=0.5,v_sigma=0.01,d_sigma=0.08,v_bound_reduction=0.15,stability=0.0)\n",
    "        # data,labels = smooth_wandering_2D_squarefix_randomstart_hdv(batch_size,training_steps,bound=0.5,v_sigma=0.02,d_sigma=0.08,v_bound_reduction=0.15,stability=0.0)\n",
    "        # data,labels = smooth_wandering_2D_squarefix_randomstart_hdv_vrng(batch_size,training_steps,bound=0.5,v_sigma_mean=0.01,d_sigma=0.08,v_bound_reduction=0.15,stability=0.0)\n",
    "        # data, labels = rat_box_v2(batch_size,training_steps,hdv=True)\n",
    "        data, labels = smooth_wandering_2D_ratinabox(batch_size,training_steps)\n",
    "        # data,labels = smooth_wandering_2D_squarefix_hdv(batch_size,training_steps,bound=0.5,v_sigma=0.01,d_sigma=0.08,v_bound_reduction=0.15,stability=0.0)\n",
    "        # data,labels = smooth_wandering_2D_squarefix(test_batch_size,t_test)\n",
    "        # data,labels = rat_box(batch_size,training_steps)\n",
    "        gen_data.append((data.cpu().detach(),labels.cpu().detach()))\n",
    "        i+=1\n",
    "        if i%per == 0:\n",
    "            training_steps += 1\n",
    "    print(\"Last training time steps:\",training_steps)\n",
    "    return gen_data\n",
    "    # Save dataset\n",
    "\n",
    "@torch.compile\n",
    "def train_constant(epochs,batch_size=64,training_steps=200):\n",
    "    gen_data = []\n",
    "    for epoch in tqdm(range(epochs)):\n",
    "        # data,labels = smooth_wandering_2D_squarefix(batch_size,training_steps,bound=0.5,v_sigma=0.01,d_sigma=0.1,v_bound_reduction=0.15,stability=0.01)\n",
    "        # data,labels = smooth_wandering_2D_squarefix_randomstart_hdv(batch_size,training_steps,bound=0.5,v_sigma=0.01,d_sigma=0.08,v_bound_reduction=0.15,stability=0.0)\n",
    "        # data,labels = smooth_wandering_2D_squarefix_randomstart_hdv_vrng(batch_size,training_steps,bound=0.5,v_sigma_mean=0.01,d_sigma=0.08,v_bound_reduction=0.15,stability=0.0)\n",
    "        data, labels = rat_box_v2(batch_size,training_steps,hdv=True)\n",
    "        # data,labels = smooth_wandering_2D_squarefix(test_batch_size,t_test)\n",
    "        # data,labels = rat_box(batch_size,training_steps)\n",
    "        gen_data.append((data.cpu().detach(),labels.cpu().detach()))\n",
    "    print(\"Last training time steps:\",training_steps)\n",
    "    return gen_data\n",
    "\n",
    "batch_size = 64\n",
    "per = 10\n",
    "epochs = 2000\n",
    "t_steps = 200\n",
    "gen_data = train_gradual_gen(epochs,batch_size=batch_size,per=per)\n",
    "# gen_data = train_constant(epochs,batch_size=batch_size,training_steps=t_steps)\n",
    "np.save(\"../datasets/gradual_2D_ratinabox_{}_{}_{}\".format(epochs,per,batch_size),gen_data) # Will be saved as [Epochs,data/labels,batchsize,tsteps,x/y]\n",
    "# np.save(\"../datasets/constant_2D_ratinabox_3_{}_{}_{}\".format(epochs,t_steps,batch_size),gen_data) # Will be saved as [Epochs,data/labels,batchsize,tsteps,x/y]\n"
   ]
  },
  {
   "cell_type": "code",
   "execution_count": null,
   "metadata": {},
   "outputs": [],
   "source": [
    "class Datamodel(Dataset):\n",
    "    def __init__(self,time_pos_points,labels):\n",
    "        self.x = time_pos_points\n",
    "        self.y = labels\n",
    "    def __len__(self): \n",
    "        return self.x.shape[0]\n",
    "    def __getitem__(self, ix):\n",
    "        return self.x[ix], self.y[ix]\n",
    "    \n",
    "data = input_data[:,0]\n",
    "labels = input_data[:,1]\n",
    "datamodel = Datamodel(data, labels)\n",
    "data_loader = DataLoader(datamodel, batch_size=1, shuffle=False, num_workers=1)"
   ]
  },
  {
   "cell_type": "code",
   "execution_count": 51,
   "metadata": {},
   "outputs": [],
   "source": [
    "batch_size = 64\n",
    "training_steps = 200\n",
    "\n",
    "# data,labels = smooth_wandering_2D_squarefix_randomstart_hdv(batch_size,training_steps,bound=0.5,v_sigma=0.02,d_sigma=0.08,v_bound_reduction=0.15,stability=0.0)\n",
    "data,labels = smooth_wandering_2D_squarefix_randomstart_hdv_vrng(batch_size,training_steps,bound=0.5,v_sigma_mean=0.01,d_sigma=0.08,v_bound_reduction=0.15,stability=0.0)"
   ]
  },
  {
   "cell_type": "code",
   "execution_count": 71,
   "metadata": {},
   "outputs": [],
   "source": [
    "data, labels = rat_box_v2(64,200,hdv=True)"
   ]
  },
  {
   "cell_type": "code",
   "execution_count": 32,
   "metadata": {},
   "outputs": [
    {
     "data": {
      "text/plain": [
       "tensor(0.6020, device='cuda:0')"
      ]
     },
     "execution_count": 32,
     "metadata": {},
     "output_type": "execute_result"
    }
   ],
   "source": [
    "data[:,1:,1,:].mean()\n",
    "# data[:,1:,0,:].min()"
   ]
  },
  {
   "cell_type": "code",
   "execution_count": 38,
   "metadata": {},
   "outputs": [
    {
     "data": {
      "text/plain": [
       "torch.Size([10, 300, 2])"
      ]
     },
     "execution_count": 38,
     "metadata": {},
     "output_type": "execute_result"
    }
   ],
   "source": [
    "labels.shape"
   ]
  },
  {
   "cell_type": "code",
   "execution_count": 3,
   "metadata": {},
   "outputs": [],
   "source": [
    "Env = Environment()\n",
    "Ag = Agent(Env)\n",
    "# Ag.speed_mean = 5.0\n",
    "# Ag.speed_std = 5.0\n",
    "Ag.dt = 0.1\n",
    "for i in range(int(60/Ag.dt)):\n",
    "    Ag.update()\n",
    "\n",
    "labels = torch.Tensor(Ag.history[\"pos\"])*np.pi*2 - np.pi\n",
    "data = torch.Tensor(Ag.history[\"vel\"])*np.pi*2"
   ]
  },
  {
   "cell_type": "code",
   "execution_count": 78,
   "metadata": {},
   "outputs": [],
   "source": []
  },
  {
   "cell_type": "code",
   "execution_count": 257,
   "metadata": {},
   "outputs": [
    {
     "data": {
      "text/plain": [
       "tensor(9.0496, device='cuda:0')"
      ]
     },
     "execution_count": 257,
     "metadata": {},
     "output_type": "execute_result"
    }
   ],
   "source": [
    "data[:,1:,:,:].mean()"
   ]
  },
  {
   "cell_type": "code",
   "execution_count": 280,
   "metadata": {},
   "outputs": [
    {
     "name": "stderr",
     "output_type": "stream",
     "text": [
      "100%|██████████| 200/200 [00:00<00:00, 408.59it/s]\n"
     ]
    }
   ],
   "source": [
    "data,labels = smooth_wandering_2D_ratinabox(10,200)"
   ]
  },
  {
   "cell_type": "code",
   "execution_count": 273,
   "metadata": {},
   "outputs": [
    {
     "data": {
      "text/plain": [
       "tensor(0.5645, device='cuda:0')"
      ]
     },
     "execution_count": 273,
     "metadata": {},
     "output_type": "execute_result"
    }
   ],
   "source": [
    "data[:,1:,1,:].max()"
   ]
  },
  {
   "cell_type": "code",
   "execution_count": 285,
   "metadata": {},
   "outputs": [
    {
     "name": "stdout",
     "output_type": "stream",
     "text": [
      "(10, 200, 2, 1)\n"
     ]
    },
    {
     "data": {
      "image/png": "[encoded data removed]",
      "text/plain": [
       "<Figure size 640x480 with 1 Axes>"
      ]
     },
     "metadata": {},
     "output_type": "display_data"
    }
   ],
   "source": [
    "path = labels.cpu().detach().numpy()\n",
    "\n",
    "# path = np.array(labels)\n",
    "\n",
    "# Unsqeeze to add a batch dimension\n",
    "# path = np.expand_dims(path, axis=0)\n",
    "print(path.shape)\n",
    "\n",
    "n = 4\n",
    "p0 = data[n,0,:].cpu().detach().numpy()\n",
    "plt.plot(path[n,:,0], path[n,:,1], '--o',alpha=0.5)\n",
    "# # Plot first\n",
    "# plt.plot(path[n,0,0],path[n,0,1],\"o\",color=\"green\")\n",
    "plt.plot(p0[0],p0[1],\"o\",color=\"green\")\n",
    "# # Plot last\n",
    "plt.plot(path[n,-1,0],path[n,-1,1],\"o\",color=\"orange\")\n",
    "plt.title(\"2D path example\")\n",
    "plt.xlim(-np.pi,np.pi)\n",
    "plt.ylim(-np.pi,np.pi)\n",
    "# plt.xlim(0,1)\n",
    "# plt.ylim(0,1)\n",
    "plt.xlabel(\"$x$\")\n",
    "plt.ylabel(\"$y$\")\n",
    "plt.legend([\"Path\",\"Start\",\"End\"])\n",
    "plt.show()"
   ]
  },
  {
   "cell_type": "code",
   "execution_count": 149,
   "metadata": {},
   "outputs": [],
   "source": [
    "from scipy import stats as stats\n",
    "\n",
    "def ornstein_uhlenbeck(dt, x, drift=0.0, noise_scale=0.2, coherence_time=5.0):\n",
    "    # From Ratinabox Github\n",
    "    \"\"\"An ornstein uhlenbeck process in x.\n",
    "    x can be multidimensional\n",
    "    Args:\n",
    "        dt: update time step\n",
    "        x: the stochastic variable being updated\n",
    "        drift (float, or same type as x, optional): [description]. Defaults to 0.\n",
    "        noise_scale (float, or same type as x, optional): Magnitude of deviations from drift. Defaults to 0.2 (20 cm s^-1 if units of x are in metres).\n",
    "        coherence_time (float, optional):\n",
    "        Effectively over what time scale you expect x to change. Can be a vector (one timescale for each element of x) directions. Defaults to 5.\n",
    "\n",
    "    Returns:\n",
    "        dx (same type as x); the required update to x\n",
    "    \"\"\"\n",
    "    x = torch.Tensor(x)\n",
    "    drift = drift * torch.ones_like(x)\n",
    "    noise_scale = noise_scale * torch.ones_like(x)\n",
    "    coherence_time = coherence_time * torch.ones_like(x)\n",
    "    sigma = torch.sqrt((2 * noise_scale**2) / (coherence_time * dt))\n",
    "    theta = 1 / coherence_time\n",
    "    dx = theta * (drift - x) * dt + sigma * torch.randn(x.shape)*dt\n",
    "    return dx\n",
    "\n",
    "def normal_to_rayleigh(x, sigma=1):\n",
    "    \"\"\"Converts a normally distributed variable (mean 0, var 1) to a rayleigh distributed variable (sigma)\"\"\"\n",
    "    x = torch.tensor(stats.norm.cdf(x.cpu()))  # norm to uniform\n",
    "    x = sigma * torch.sqrt(-2 * torch.log(1 - x))  # uniform to rayleigh\n",
    "    return x\n",
    "\n",
    "def rayleigh_to_normal(x, sigma=1):\n",
    "    \"\"\"Converts a rayleigh distributed variable (sigma) to a normally distributed variable (mean 0, var 1)\"\"\"\n",
    "    x = 1 - torch.exp(-(x**2) / (2 * sigma**2))  # rayleigh to uniform\n",
    "    x = torch.clamp(x, min=1e-6, max=1 - 1e-6)\n",
    "    x = torch.tensor(stats.norm.ppf(x.cpu()))  # uniform to normal\n",
    "    return x"
   ]
  },
  {
   "cell_type": "code",
   "execution_count": 261,
   "metadata": {},
   "outputs": [],
   "source": [
    "def smooth_wandering_2D_ratinabox(n_data,t_steps,v_sigma=0.08,v_coherence=0.7,d_sigma=120 * (np.pi / 180),d_coherence=0.08,d_scaler=10,v_bound_reduction=0.15,dt=0.01):\n",
    "    bound = 0.5\n",
    "    v_mean = 0.08\n",
    "    speed_coherence = v_coherence\n",
    "    direction_pert_coherence = d_coherence\n",
    "    direction_pert_std=  d_sigma\n",
    "    # Save head direction and speed in data\n",
    "    data = torch.zeros((n_data, t_steps+1, 2))\n",
    "    # Save position in x and y direction in labels\n",
    "    labels = torch.zeros((n_data, t_steps, 2))\n",
    "    start_positions = torch.rand(n_data,2)*2*bound-bound\n",
    "    data[:,0,:] = start_positions\n",
    "    \n",
    "    # Draw start directions such that they are not pointing towards the boundry\n",
    "    # Where start positions is in for example first quadrant, draw start directions in between pi and 3pi/2\n",
    "    directions = torch.rand(n_data)\n",
    "    # start_directions = start_directions.unsqueeze(1)\n",
    "    speeds = v_mean*torch.ones(n_data)\n",
    "    direction_perts = torch.zeros(n_data) # = start rotational speeds\n",
    "    for t in tqdm(range(t_steps)):\n",
    "        direction_perts_new = ornstein_uhlenbeck(dt,direction_perts,drift=0,noise_scale=direction_pert_std,coherence_time=direction_pert_coherence)\n",
    "        if torch.any(speeds==0):  # add tiny velocity in [1,0] direction to avoid nans\n",
    "            speeds[speeds==0] = 1e-8\n",
    "        normal_variable = rayleigh_to_normal(speeds, sigma=v_mean)\n",
    "        new_normal_variable = normal_variable + ornstein_uhlenbeck(dt=dt,x=normal_variable,drift=0,noise_scale=1,coherence_time=speed_coherence)\n",
    "        new_speeds = normal_to_rayleigh(new_normal_variable, sigma=v_mean)\n",
    "        directions_new = directions + direction_perts_new*d_scaler*dt\n",
    "        directions_new = torch.remainder(directions_new,2*np.pi)\n",
    "        data[:,t+1,0] = directions_new\n",
    "        data[:,t+1,1] = new_speeds\n",
    "        if t == 0:\n",
    "            labels[:,t,0] = start_positions[:,0] + new_speeds*torch.cos(directions_new)\n",
    "            labels[:,t,1] = start_positions[:,1] + new_speeds*torch.sin(directions_new)\n",
    "        else:\n",
    "            labels[:,t,0] = labels[:,t-1,0] + new_speeds*torch.cos(directions_new)\n",
    "            labels[:,t,1] = labels[:,t-1,1] + new_speeds*torch.sin(directions_new)\n",
    "        bound_mask = (labels[:,t,0] > bound) | (labels[:,t,0] < -bound) | (labels[:,t,1] > bound) | (labels[:,t,1] < -bound)\n",
    "        while bound_mask.any():\n",
    "            # If any of the positions are outside the bound, redraw the velocities and directions for those trajectories\n",
    "            direction_perts_new[bound_mask] = torch.Tensor(np.random.choice([-1,1],int(bound_mask.sum()))).to(device)*(torch.randn((int(bound_mask.sum()),))*0.5 + np.pi/2)\n",
    "            if torch.any(speeds[bound_mask]==0):  # add tiny velocity in [1,0] direction to avoid nans\n",
    "                speeds[bound_mask][speeds[bound_mask]==0] = 1e-8\n",
    "            normal_variable = rayleigh_to_normal(speeds[bound_mask], sigma=v_mean)\n",
    "            new_normal_variable = normal_variable + ornstein_uhlenbeck(dt=dt,x=normal_variable,drift=0,noise_scale=1,coherence_time=speed_coherence)\n",
    "            new_speeds[bound_mask] = normal_to_rayleigh(new_normal_variable, sigma=v_mean)*v_bound_reduction\n",
    "            directions_new[bound_mask] = directions[bound_mask] + direction_perts_new[bound_mask]\n",
    "            directions_new[bound_mask] = torch.remainder(directions_new[bound_mask],2*np.pi)\n",
    "            \n",
    "            data[bound_mask,t+1,0] = directions_new[bound_mask]\n",
    "            data[bound_mask,t+1,1] = new_speeds[bound_mask].float()\n",
    "            if t == 0:\n",
    "                labels[bound_mask,t,0] = (start_positions[bound_mask,0] + new_speeds[bound_mask]*torch.cos(directions_new[bound_mask])).float()\n",
    "                labels[bound_mask,t,1] = (start_positions[bound_mask,1] + new_speeds[bound_mask]*torch.sin(directions_new[bound_mask])).float()\n",
    "            else:\n",
    "                labels[bound_mask,t,0] = (labels[bound_mask,t-1,0] + new_speeds[bound_mask]*torch.cos(directions_new[bound_mask])).float()\n",
    "                labels[bound_mask,t,1] = (labels[bound_mask,t-1,1] + new_speeds[bound_mask]*torch.sin(directions_new[bound_mask])).float()\n",
    "            bound_mask = (labels[:,t,0] > bound) | (labels[:,t,0] < -bound) | (labels[:,t,1] > bound) | (labels[:,t,1] < -bound)\n",
    "        speeds = new_speeds\n",
    "        directions = directions_new\n",
    "        direction_perts = direction_perts_new\n",
    "        \n",
    "\n",
    "    data = data.unsqueeze(-1)\n",
    "    # labels = labels.unsqueeze(-1)\n",
    "    # Scale by 2pi to be in range -pi to pi\n",
    "    data[:,0,:,:] = data[:,0,:,:]*2*np.pi/(2*bound)\n",
    "    data[:,1:,1,:] = data[:,1:,1,:] * 2*np.pi/(2*bound)\n",
    "    labels = labels*2*np.pi/(2*bound)\n",
    "    return data, labels\n",
    "\n",
    "        "
   ]
  }
 ],
 "metadata": {
  "kernelspec": {
   "display_name": "torch2",
   "language": "python",
   "name": "python3"
  },
  "language_info": {
   "codemirror_mode": {
    "name": "ipython",
    "version": 3
   },
   "file_extension": ".py",
   "mimetype": "text/x-python",
   "name": "python",
   "nbconvert_exporter": "python",
   "pygments_lexer": "ipython3",
   "version": "3.10.12"
  },
  "orig_nbformat": 4
 },
 "nbformat": 4,
 "nbformat_minor": 2
}
