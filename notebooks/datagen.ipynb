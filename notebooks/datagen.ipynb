{
 "cells": [
  {
   "cell_type": "code",
   "execution_count": 1,
   "metadata": {},
   "outputs": [
    {
     "name": "stderr",
     "output_type": "stream",
     "text": [
      "/home/users/mattisdo/.pyenv/versions/3.10.12/envs/env/lib/python3.10/site-packages/tqdm/auto.py:21: TqdmWarning: IProgress not found. Please update jupyter and ipywidgets. See https://ipywidgets.readthedocs.io/en/stable/user_install.html\n",
      "  from .autonotebook import tqdm as notebook_tqdm\n"
     ]
    },
    {
     "name": "stdout",
     "output_type": "stream",
     "text": [
      "Running on GPU:  cuda:0\n",
      "Running on GPU:  cuda:0\n",
      "Running on GPU:  cuda:0\n"
     ]
    },
    {
     "name": "stderr",
     "output_type": "stream",
     "text": [
      "/home/users/mattisdo/.pyenv/versions/3.10.12/envs/env/lib/python3.10/site-packages/umap/distances.py:1063: NumbaDeprecationWarning: The 'nopython' keyword argument was not supplied to the 'numba.jit' decorator. The implicit default value for this argument is currently False, but it will be changed to True in Numba 0.59.0. See https://numba.readthedocs.io/en/stable/reference/deprecation.html#deprecation-of-object-mode-fall-back-behaviour-when-using-jit for details.\n",
      "  @numba.jit()\n",
      "/home/users/mattisdo/.pyenv/versions/3.10.12/envs/env/lib/python3.10/site-packages/umap/distances.py:1071: NumbaDeprecationWarning: The 'nopython' keyword argument was not supplied to the 'numba.jit' decorator. The implicit default value for this argument is currently False, but it will be changed to True in Numba 0.59.0. See https://numba.readthedocs.io/en/stable/reference/deprecation.html#deprecation-of-object-mode-fall-back-behaviour-when-using-jit for details.\n",
      "  @numba.jit()\n",
      "/home/users/mattisdo/.pyenv/versions/3.10.12/envs/env/lib/python3.10/site-packages/umap/distances.py:1086: NumbaDeprecationWarning: The 'nopython' keyword argument was not supplied to the 'numba.jit' decorator. The implicit default value for this argument is currently False, but it will be changed to True in Numba 0.59.0. See https://numba.readthedocs.io/en/stable/reference/deprecation.html#deprecation-of-object-mode-fall-back-behaviour-when-using-jit for details.\n",
      "  @numba.jit()\n",
      "/home/users/mattisdo/.pyenv/versions/3.10.12/envs/env/lib/python3.10/site-packages/umap/umap_.py:660: NumbaDeprecationWarning: The 'nopython' keyword argument was not supplied to the 'numba.jit' decorator. The implicit default value for this argument is currently False, but it will be changed to True in Numba 0.59.0. See https://numba.readthedocs.io/en/stable/reference/deprecation.html#deprecation-of-object-mode-fall-back-behaviour-when-using-jit for details.\n",
      "  @numba.jit()\n"
     ]
    },
    {
     "name": "stdout",
     "output_type": "stream",
     "text": [
      "Running on GPU:  cuda:0\n"
     ]
    }
   ],
   "source": [
    "import numpy as np\n",
    "import matplotlib.pyplot as plt\n",
    "import matplotlib.cm as cm\n",
    "from tqdm import tqdm\n",
    "from IPython.display import HTML\n",
    "# import line_profiler as lp \n",
    "\n",
    "import torch\n",
    "import torch.nn as nn\n",
    "import torch.nn.functional as F\n",
    "from torch.autograd import Variable, functional\n",
    "import torch.optim as optim\n",
    "from torch.utils.data import Dataset, DataLoader\n",
    "\n",
    "import sys\n",
    "sys.path.append('../src')\n",
    "# from model import *\n",
    "from model2D import *\n",
    "from datagen import *\n",
    "from analysis import *\n",
    "from datagen2D import *\n",
    "\n",
    "if torch.cuda.is_available():\n",
    "    device = torch.device(\"cuda:0\")\n",
    "    print(\"Running on GPU: \", device)\n",
    "else:\n",
    "    device = torch.device(\"cpu\")\n",
    "    print(\"Running on CPU\")\n",
    "\n",
    "torch.set_default_device(device)\n",
    "# torch.cuda.synchronize()\n",
    "torch._dynamo.config.suppress_errors = True\n",
    "torch.set_float32_matmul_precision(\"high\")"
   ]
  },
  {
   "cell_type": "code",
   "execution_count": 4,
   "metadata": {},
   "outputs": [
    {
     "name": "stderr",
     "output_type": "stream",
     "text": [
      "100%|██████████| 2000/2000 [01:08<00:00, 29.38it/s]\n"
     ]
    },
    {
     "name": "stdout",
     "output_type": "stream",
     "text": [
      "Last training time steps: 200\n"
     ]
    }
   ],
   "source": [
    "# # Generate dataset and save in ../datasets\n",
    "# # First generate gradual gradual dataset\n",
    "\n",
    "def train_gradual_gen(epochs,batch_size=64,per=15):\n",
    "    i = 0\n",
    "    training_steps = 1\n",
    "    gen_data = []\n",
    "    for epoch in tqdm(range(epochs)):\n",
    "        # data,labels = smooth_wandering_2D_squarefix(batch_size,training_steps,bound=0.5,v_sigma=0.01,d_sigma=0.08,v_bound_reduction=0.15,stability=0.0)\n",
    "        # data,labels = smooth_wandering_2D_squarefix_randomstart_hdv(batch_size,training_steps,bound=0.5,v_sigma=0.02,d_sigma=0.08,v_bound_reduction=0.15,stability=0.0)\n",
    "        data,labels = smooth_wandering_2D_squarefix_randomstart_hdv_vrng(batch_size,training_steps,bound=0.5,v_sigma_mean=0.01,d_sigma=0.08,v_bound_reduction=0.15,stability=0.0)\n",
    "        # data,labels = smooth_wandering_2D_squarefix_hdv(batch_size,training_steps,bound=0.5,v_sigma=0.01,d_sigma=0.08,v_bound_reduction=0.15,stability=0.0)\n",
    "        # data,labels = smooth_wandering_2D_squarefix(test_batch_size,t_test)\n",
    "        # data,labels = rat_box(batch_size,training_steps)\n",
    "        gen_data.append((data.cpu().detach(),labels.cpu().detach()))\n",
    "        i+=1\n",
    "        if i%per == 0:\n",
    "            training_steps += 1\n",
    "    print(\"Last training time steps:\",training_steps)\n",
    "    return gen_data\n",
    "    # Save dataset\n",
    "\n",
    "def train_constant(epochs,batch_size=64,training_steps=200):\n",
    "    gen_data = []\n",
    "    for epoch in tqdm(range(epochs)):\n",
    "        # data,labels = smooth_wandering_2D_squarefix(batch_size,training_steps,bound=0.5,v_sigma=0.01,d_sigma=0.1,v_bound_reduction=0.15,stability=0.01)\n",
    "        # data,labels = smooth_wandering_2D_squarefix_randomstart_hdv(batch_size,training_steps,bound=0.5,v_sigma=0.01,d_sigma=0.08,v_bound_reduction=0.15,stability=0.0)\n",
    "        data,labels = smooth_wandering_2D_squarefix_randomstart_hdv_vrng(batch_size,training_steps,bound=0.5,v_sigma_mean=0.01,d_sigma=0.08,v_bound_reduction=0.15,stability=0.0)\n",
    "        # data,labels = smooth_wandering_2D_squarefix(test_batch_size,t_test)\n",
    "        # data,labels = rat_box(batch_size,training_steps)\n",
    "        gen_data.append((data.cpu().detach(),labels.cpu().detach()))\n",
    "    print(\"Last training time steps:\",training_steps)\n",
    "    return gen_data\n",
    "\n",
    "batch_size = 64\n",
    "per = 10\n",
    "epochs = 2000\n",
    "t_steps = 200\n",
    "# gen_data = train_gradual_gen(epochs,batch_size=batch_size,per=per)\n",
    "gen_data = train_constant(epochs,batch_size=batch_size,training_steps=t_steps)\n",
    "# np.save(\"../datasets/gradual_2D_hdv_randomstart_vrng2_{}_{}_{}\".format(epochs,per,batch_size),gen_data) # Will be saved as [Epochs,data/labels,batchsize,tsteps,x/y]\n",
    "np.save(\"../datasets/constant_2D_hdv_randomstart_{}_{}_{}\".format(epochs,t_steps,batch_size),gen_data) # Will be saved as [Epochs,data/labels,batchsize,tsteps,x/y]\n"
   ]
  },
  {
   "cell_type": "code",
   "execution_count": null,
   "metadata": {},
   "outputs": [],
   "source": [
    "class Datamodel(Dataset):\n",
    "    def __init__(self,time_pos_points,labels):\n",
    "        self.x = time_pos_points\n",
    "        self.y = labels\n",
    "    def __len__(self): \n",
    "        return self.x.shape[0]\n",
    "    def __getitem__(self, ix):\n",
    "        return self.x[ix], self.y[ix]\n",
    "    \n",
    "data = input_data[:,0]\n",
    "labels = input_data[:,1]\n",
    "datamodel = Datamodel(data, labels)\n",
    "data_loader = DataLoader(datamodel, batch_size=1, shuffle=False, num_workers=1)"
   ]
  },
  {
   "cell_type": "code",
   "execution_count": 51,
   "metadata": {},
   "outputs": [],
   "source": [
    "batch_size = 64\n",
    "training_steps = 200\n",
    "\n",
    "# data,labels = smooth_wandering_2D_squarefix_randomstart_hdv(batch_size,training_steps,bound=0.5,v_sigma=0.02,d_sigma=0.08,v_bound_reduction=0.15,stability=0.0)\n",
    "data,labels = smooth_wandering_2D_squarefix_randomstart_hdv_vrng(batch_size,training_steps,bound=0.5,v_sigma_mean=0.01,d_sigma=0.08,v_bound_reduction=0.15,stability=0.0)"
   ]
  },
  {
   "cell_type": "code",
   "execution_count": 91,
   "metadata": {},
   "outputs": [],
   "source": [
    "def rat_box(n_data,t_steps):\n",
    "    # Use rat-in-a-box package to generate data\n",
    "    # Data: 2D velocity vectors\n",
    "    data = torch.zeros((n_data, t_steps+1, 2))\n",
    "    # Labels: 2D positions\n",
    "    labels = torch.zeros((n_data, t_steps, 2))\n",
    "    # Ag.speed_mean = speed_mean\n",
    "    # Ag.speed_std = speed_std\n",
    "    for i in tqdm(range(n_data)):\n",
    "        Env = Environment() \n",
    "        Ag = Agent(Env)\n",
    "        Ag.dt = 0.1\n",
    "        data[i,0] = torch.tensor(Ag.pos)\n",
    "        for j in range(t_steps): \n",
    "            Ag.update()\n",
    "        data[i,1:] = torch.tensor(Ag.history[\"vel\"])*2*np.pi\n",
    "        labels[i] = torch.tensor(Ag.history[\"pos\"])*2*np.pi - np.pi\n",
    "    data = data.unsqueeze(3)\n",
    "    # labels = labels*box_size\n",
    "    return data, labels"
   ]
  },
  {
   "cell_type": "code",
   "execution_count": 92,
   "metadata": {},
   "outputs": [
    {
     "name": "stderr",
     "output_type": "stream",
     "text": [
      "100%|██████████| 2/2 [00:00<00:00,  7.02it/s]\n"
     ]
    }
   ],
   "source": [
    "data, labels = rat_box(2,200)"
   ]
  },
  {
   "cell_type": "code",
   "execution_count": 53,
   "metadata": {},
   "outputs": [
    {
     "data": {
      "text/plain": [
       "tensor(0.0138, device='cuda:0')"
      ]
     },
     "execution_count": 53,
     "metadata": {},
     "output_type": "execute_result"
    }
   ],
   "source": [
    "data[:,1:,1,:].mean()"
   ]
  },
  {
   "cell_type": "code",
   "execution_count": 7,
   "metadata": {},
   "outputs": [
    {
     "data": {
      "text/plain": [
       "torch.Size([64, 200, 2])"
      ]
     },
     "execution_count": 7,
     "metadata": {},
     "output_type": "execute_result"
    }
   ],
   "source": [
    "labels.shape"
   ]
  },
  {
   "cell_type": "code",
   "execution_count": 86,
   "metadata": {},
   "outputs": [],
   "source": [
    "Env = Environment()\n",
    "Ag = Agent(Env)\n",
    "# Ag.speed_mean = 5.0\n",
    "# Ag.speed_std = 5.0\n",
    "Ag.dt = 0.1\n",
    "for i in range(int(60/Ag.dt)):\n",
    "    Ag.update()\n",
    "\n",
    "labels = torch.Tensor(Ag.history[\"pos\"])*np.pi*2 - np.pi\n",
    "data = torch.Tensor(Ag.history[\"vel\"])*np.pi*2"
   ]
  },
  {
   "cell_type": "code",
   "execution_count": 78,
   "metadata": {},
   "outputs": [],
   "source": []
  },
  {
   "cell_type": "code",
   "execution_count": 69,
   "metadata": {},
   "outputs": [
    {
     "data": {
      "text/plain": [
       "torch.Size([200, 2])"
      ]
     },
     "execution_count": 69,
     "metadata": {},
     "output_type": "execute_result"
    }
   ],
   "source": [
    "labels.shape"
   ]
  },
  {
   "cell_type": "code",
   "execution_count": 94,
   "metadata": {},
   "outputs": [
    {
     "name": "stdout",
     "output_type": "stream",
     "text": [
      "(2, 200, 2)\n"
     ]
    },
    {
     "data": {
      "image/png": "[encoded data removed]",
      "text/plain": [
       "<Figure size 640x480 with 1 Axes>"
      ]
     },
     "metadata": {},
     "output_type": "display_data"
    }
   ],
   "source": [
    "path = labels.cpu().detach().numpy()\n",
    "# path = np.array(labels)\n",
    "\n",
    "# Unsqeeze to add a batch dimension\n",
    "# path = np.expand_dims(path, axis=0)\n",
    "print(path.shape)\n",
    "\n",
    "n = 1\n",
    "plt.plot(path[n,:,0], path[n,:,1], '--o',alpha=0.5)\n",
    "# # Plot first\n",
    "plt.plot(path[n,0,0],path[n,0,1],\"o\",color=\"green\")\n",
    "# # Plot last\n",
    "plt.plot(path[n,-1,0],path[n,-1,1],\"o\",color=\"orange\")\n",
    "plt.title(\"2D path example\")\n",
    "plt.xlim(-np.pi,np.pi)\n",
    "plt.ylim(-np.pi,np.pi)\n",
    "# plt.xlim(0,1)\n",
    "# plt.ylim(0,1)\n",
    "plt.xlabel(\"$x$\")\n",
    "plt.ylabel(\"$y$\")\n",
    "plt.legend([\"Path\",\"Start\",\"End\"])\n",
    "plt.show()"
   ]
  }
 ],
 "metadata": {
  "kernelspec": {
   "display_name": "torch2",
   "language": "python",
   "name": "python3"
  },
  "language_info": {
   "codemirror_mode": {
    "name": "ipython",
    "version": 3
   },
   "file_extension": ".py",
   "mimetype": "text/x-python",
   "name": "python",
   "nbconvert_exporter": "python",
   "pygments_lexer": "ipython3",
   "version": "3.10.12"
  },
  "orig_nbformat": 4
 },
 "nbformat": 4,
 "nbformat_minor": 2
}
